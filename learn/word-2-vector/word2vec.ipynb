{
 "cells": [
  {
   "cell_type": "code",
   "execution_count": 28,
   "metadata": {
    "collapsed": false
   },
   "outputs": [
    {
     "data": {
      "text/plain": [
       "(156060, 4)"
      ]
     },
     "execution_count": 28,
     "metadata": {},
     "output_type": "execute_result"
    }
   ],
   "source": [
    "%matplotlib inline\n",
    "\n",
    "import pandas as pd\n",
    "import numpy as np\n",
    "import matplotlib.pyplot as plt\n",
    "import seaborn as sns\n",
    "\n",
    "# Load the data\n",
    "train = pd.read_csv('../../data/train.tsv', sep='\\t')\n",
    "test = pd.read_csv('../../data/test.tsv', sep='\\t')\n",
    "train.shape"
   ]
  },
  {
   "cell_type": "code",
   "execution_count": 29,
   "metadata": {
    "collapsed": true
   },
   "outputs": [],
   "source": [
    "# Import various modules for string cleaning\n",
    "from bs4 import BeautifulSoup\n",
    "import re\n",
    "from nltk.corpus import stopwords\n",
    "\n",
    "def phrase_to_wordlist(review, remove_stopwords=False):\n",
    "    # Function to convert a document to a sequence of words,\n",
    "    # optionally removing stop words.  Returns a list of words.\n",
    "    #\n",
    "    # 1. Remove HTML\n",
    "    phrase_text = BeautifulSoup(review).get_text()\n",
    "    #  \n",
    "    # 2. Remove non-letters\n",
    "    phrase_text = re.sub(\"[^a-zA-Z]\",\" \", phrase_text)\n",
    "    #\n",
    "    # 3. Convert words to lower case and split them\n",
    "    words = phrase_text.lower().split()\n",
    "    #\n",
    "    # 4. Optionally remove stop words (false by default)\n",
    "    if remove_stopwords:\n",
    "        stops = set(stopwords.words(\"english\"))\n",
    "        words = [w for w in words if not w in stops]\n",
    "    #\n",
    "    # 5. Return a list of words\n",
    "    return words"
   ]
  },
  {
   "cell_type": "code",
   "execution_count": 30,
   "metadata": {
    "collapsed": false
   },
   "outputs": [
    {
     "name": "stdout",
     "output_type": "stream",
     "text": [
      "156060\n",
      "66292\n"
     ]
    }
   ],
   "source": [
    "trainPhrases = []\n",
    "for phrase in train.Phrase:\n",
    "    trainPhrases.append(phrase_to_wordlist(phrase))\n",
    "\n",
    "print len(trainPhrases)\n",
    "\n",
    "testPhrases = []\n",
    "for phrase in test.Phrase:\n",
    "    testPhrases.append(phrase_to_wordlist(phrase))\n",
    "    \n",
    "print len(testPhrases)"
   ]
  },
  {
   "cell_type": "code",
   "execution_count": 31,
   "metadata": {
    "collapsed": false
   },
   "outputs": [
    {
     "name": "stdout",
     "output_type": "stream",
     "text": [
      "Training model...\n"
     ]
    }
   ],
   "source": [
    "# Import the built-in logging module and configure it so that Word2Vec \n",
    "# creates nice output messages\n",
    "import logging\n",
    "logging.basicConfig(format='%(asctime)s : %(levelname)s : %(message)s',\\\n",
    "    level=logging.INFO)\n",
    "\n",
    "# Set values for various parameters\n",
    "num_features = 300    # Word vector dimensionality                      \n",
    "min_word_count = 40   # Minimum word count                        \n",
    "num_workers = 4       # Number of threads to run in parallel\n",
    "context = 10          # Context window size                                                                                    \n",
    "downsampling = 1e-3   # Downsample setting for frequent words\n",
    "\n",
    "# Initialize and train the model (this will take some time)\n",
    "from gensim.models import word2vec\n",
    "print \"Training model...\"\n",
    "model = word2vec.Word2Vec(trainPhrases, workers=num_workers, \\\n",
    "            size=num_features, min_count = min_word_count, \\\n",
    "            window = context, sample = downsampling)\n",
    "\n",
    "# If you don't plan to train the model any further, calling \n",
    "# init_sims will make the model much more memory-efficient.\n",
    "model.init_sims(replace=True)\n",
    "\n",
    "# It can be helpful to create a meaningful model name and \n",
    "# save the model for later use. You can load it later using Word2Vec.load()\n",
    "model_name = \"300features_40minwords_10context\"\n",
    "model.save(model_name)"
   ]
  },
  {
   "cell_type": "code",
   "execution_count": 51,
   "metadata": {
    "collapsed": false
   },
   "outputs": [
    {
     "data": {
      "text/plain": [
       "[(u'doubt', 0.6463204026222229),\n",
       " (u'reason', 0.6391289830207825),\n",
       " (u'here', 0.6342751383781433),\n",
       " (u'problem', 0.6216509342193604),\n",
       " (u'plenty', 0.6104859709739685),\n",
       " (u'rewards', 0.4606524407863617),\n",
       " (u'harris', 0.45735523104667664),\n",
       " (u'maybe', 0.4547345042228699),\n",
       " (u'nothing', 0.45289337635040283),\n",
       " (u'amount', 0.45206189155578613)]"
      ]
     },
     "execution_count": 51,
     "metadata": {},
     "output_type": "execute_result"
    }
   ],
   "source": [
    "model.most_similar(\"no\")"
   ]
  },
  {
   "cell_type": "code",
   "execution_count": 37,
   "metadata": {
    "collapsed": false
   },
   "outputs": [],
   "source": [
    "def makeFeatureVec(words, model, num_features):\n",
    "    # Function to average all of the word vectors in a given\n",
    "    # paragraph\n",
    "    #\n",
    "    # Pre-initialize an empty numpy array (for speed)\n",
    "    featureVec = np.zeros((num_features,),dtype=\"float32\")\n",
    "    #\n",
    "    nwords = 0.\n",
    "    # \n",
    "    # Index2word is a list that contains the names of the words in \n",
    "    # the model's vocabulary. Convert it to a set, for speed \n",
    "    index2word_set = set(model.index2word)\n",
    "    #\n",
    "    # Loop over each word in the review and, if it is in the model's\n",
    "    # vocaublary, add its feature vector to the total\n",
    "    for word in words:\n",
    "        if word in index2word_set: \n",
    "            nwords = nwords + 1.\n",
    "            featureVec = np.add(featureVec,model[word])\n",
    "    # \n",
    "    # Divide the result by the number of words to get the average\n",
    "    featureVec = np.divide(featureVec,nwords)\n",
    "    return featureVec\n",
    "\n",
    "def getAvgFeatureVecs(reviews, model, num_features):\n",
    "    # Given a set of reviews (each one a list of words), calculate \n",
    "    # the average feature vector for each one and return a 2D numpy array \n",
    "    # \n",
    "    # Initialize a counter\n",
    "    counter = 0.\n",
    "    # \n",
    "    # Preallocate a 2D numpy array, for speed\n",
    "    reviewFeatureVecs = np.zeros((len(reviews),num_features),dtype=\"float32\")\n",
    "    # \n",
    "    # Loop through the reviews\n",
    "    for review in reviews:\n",
    "       #\n",
    "       # Print a status message every 1000th review\n",
    "       if counter%1000. == 0.:\n",
    "           print \"Review %d of %d\" % (counter, len(reviews))\n",
    "       # \n",
    "       # Call the function (defined above) that makes average feature vectors\n",
    "       reviewFeatureVecs[counter] = makeFeatureVec(review, model, \\\n",
    "           num_features)\n",
    "       #\n",
    "       # Increment the counter\n",
    "       counter = counter + 1.\n",
    "    return reviewFeatureVecs\n"
   ]
  },
  {
   "cell_type": "code",
   "execution_count": 38,
   "metadata": {
    "collapsed": false
   },
   "outputs": [
    {
     "name": "stdout",
     "output_type": "stream",
     "text": [
      "Review 0 of 156060\n",
      "Review 1000 of 156060\n",
      "Review 2000 of 156060\n",
      "Review 3000 of 156060\n",
      "Review 4000 of 156060\n",
      "Review 5000 of 156060\n",
      "Review 6000 of 156060\n",
      "Review 7000 of 156060\n",
      "Review 8000 of 156060\n",
      "Review 9000 of 156060\n",
      "Review 10000 of 156060\n",
      "Review 11000 of 156060\n",
      "Review 12000 of 156060\n",
      "Review 13000 of 156060\n",
      "Review 14000 of 156060\n",
      "Review 15000 of 156060\n",
      "Review 16000 of 156060\n",
      "Review 17000 of 156060\n",
      "Review 18000 of 156060\n",
      "Review 19000 of 156060\n",
      "Review 20000 of 156060\n",
      "Review 21000 of 156060\n",
      "Review 22000 of 156060\n",
      "Review 23000 of 156060\n",
      "Review 24000 of 156060\n",
      "Review 25000 of 156060\n",
      "Review 26000 of 156060\n",
      "Review 27000 of 156060\n",
      "Review 28000 of 156060\n",
      "Review 29000 of 156060\n",
      "Review 30000 of 156060\n",
      "Review 31000 of 156060\n",
      "Review 32000 of 156060\n",
      "Review 33000 of 156060\n",
      "Review 34000 of 156060\n",
      "Review 35000 of 156060\n",
      "Review 36000 of 156060\n",
      "Review 37000 of 156060\n",
      "Review 38000 of 156060\n",
      "Review 39000 of 156060\n",
      "Review 40000 of 156060\n",
      "Review 41000 of 156060\n",
      "Review 42000 of 156060\n",
      "Review 43000 of 156060\n",
      "Review 44000 of 156060\n",
      "Review 45000 of 156060\n",
      "Review 46000 of 156060\n",
      "Review 47000 of 156060\n",
      "Review 48000 of 156060\n",
      "Review 49000 of 156060\n",
      "Review 50000 of 156060\n",
      "Review 51000 of 156060\n",
      "Review 52000 of 156060\n",
      "Review 53000 of 156060\n",
      "Review 54000 of 156060\n",
      "Review 55000 of 156060\n",
      "Review 56000 of 156060\n",
      "Review 57000 of 156060\n",
      "Review 58000 of 156060\n",
      "Review 59000 of 156060\n",
      "Review 60000 of 156060\n",
      "Review 61000 of 156060\n",
      "Review 62000 of 156060\n",
      "Review 63000 of 156060\n",
      "Review 64000 of 156060\n",
      "Review 65000 of 156060\n",
      "Review 66000 of 156060\n",
      "Review 67000 of 156060\n",
      "Review 68000 of 156060\n",
      "Review 69000 of 156060\n",
      "Review 70000 of 156060\n",
      "Review 71000 of 156060\n",
      "Review 72000 of 156060\n",
      "Review 73000 of 156060\n",
      "Review 74000 of 156060\n",
      "Review 75000 of 156060\n",
      "Review 76000 of 156060\n",
      "Review 77000 of 156060\n",
      "Review 78000 of 156060\n",
      "Review 79000 of 156060\n",
      "Review 80000 of 156060\n",
      "Review 81000 of 156060\n",
      "Review 82000 of 156060\n",
      "Review 83000 of 156060\n",
      "Review 84000 of 156060\n",
      "Review 85000 of 156060\n",
      "Review 86000 of 156060\n",
      "Review 87000 of 156060\n",
      "Review 88000 of 156060\n",
      "Review 89000 of 156060\n",
      "Review 90000 of 156060\n",
      "Review 91000 of 156060\n",
      "Review 92000 of 156060\n",
      "Review 93000 of 156060\n",
      "Review 94000 of 156060\n",
      "Review 95000 of 156060\n",
      "Review 96000 of 156060\n",
      "Review 97000 of 156060\n",
      "Review 98000 of 156060\n",
      "Review 99000 of 156060\n",
      "Review 100000 of 156060\n",
      "Review 101000 of 156060\n",
      "Review 102000 of 156060\n",
      "Review 103000 of 156060\n",
      "Review 104000 of 156060\n",
      "Review 105000 of 156060\n",
      "Review 106000 of 156060\n",
      "Review 107000 of 156060\n",
      "Review 108000 of 156060\n",
      "Review 109000 of 156060\n",
      "Review 110000 of 156060\n",
      "Review 111000 of 156060\n",
      "Review 112000 of 156060\n",
      "Review 113000 of 156060\n",
      "Review 114000 of 156060\n",
      "Review 115000 of 156060\n",
      "Review 116000 of 156060\n",
      "Review 117000 of 156060\n",
      "Review 118000 of 156060\n",
      "Review 119000 of 156060\n",
      "Review 120000 of 156060\n",
      "Review 121000 of 156060\n",
      "Review 122000 of 156060\n",
      "Review 123000 of 156060\n",
      "Review 124000 of 156060\n",
      "Review 125000 of 156060\n",
      "Review 126000 of 156060\n",
      "Review 127000 of 156060\n",
      "Review 128000 of 156060\n",
      "Review 129000 of 156060\n",
      "Review 130000 of 156060\n",
      "Review 131000 of 156060\n",
      "Review 132000 of 156060\n",
      "Review 133000 of 156060\n",
      "Review 134000 of 156060\n",
      "Review 135000 of 156060\n",
      "Review 136000 of 156060\n",
      "Review 137000 of 156060\n",
      "Review 138000 of 156060\n",
      "Review 139000 of 156060\n",
      "Review 140000 of 156060\n",
      "Review 141000 of 156060\n",
      "Review 142000 of 156060\n",
      "Review 143000 of 156060\n",
      "Review 144000 of 156060\n",
      "Review 145000 of 156060\n",
      "Review 146000 of 156060\n",
      "Review 147000 of 156060\n",
      "Review 148000 of 156060\n",
      "Review 149000 of 156060\n",
      "Review 150000 of 156060\n",
      "Review 151000 of 156060\n",
      "Review 152000 of 156060\n",
      "Review 153000 of 156060\n",
      "Review 154000 of 156060\n",
      "Review 155000 of 156060\n",
      "Review 156000 of 156060\n",
      "Review 0 of 66292\n",
      "Review 1000 of 66292\n",
      "Review 2000 of 66292\n",
      "Review 3000 of 66292\n",
      "Review 4000 of 66292\n",
      "Review 5000 of 66292\n",
      "Review 6000 of 66292\n",
      "Review 7000 of 66292\n",
      "Review 8000 of 66292\n",
      "Review 9000 of 66292\n",
      "Review 10000 of 66292\n",
      "Review 11000 of 66292\n",
      "Review 12000 of 66292\n",
      "Review 13000 of 66292\n",
      "Review 14000 of 66292\n",
      "Review 15000 of 66292\n",
      "Review 16000 of 66292\n",
      "Review 17000 of 66292\n",
      "Review 18000 of 66292\n",
      "Review 19000 of 66292\n",
      "Review 20000 of 66292\n",
      "Review 21000 of 66292\n",
      "Review 22000 of 66292\n",
      "Review 23000 of 66292\n",
      "Review 24000 of 66292\n",
      "Review 25000 of 66292\n",
      "Review 26000 of 66292\n",
      "Review 27000 of 66292\n",
      "Review 28000 of 66292\n",
      "Review 29000 of 66292\n",
      "Review 30000 of 66292\n",
      "Review 31000 of 66292\n",
      "Review 32000 of 66292\n",
      "Review 33000 of 66292\n",
      "Review 34000 of 66292\n",
      "Review 35000 of 66292\n",
      "Review 36000 of 66292\n",
      "Review 37000 of 66292\n",
      "Review 38000 of 66292\n",
      "Review 39000 of 66292\n",
      "Review 40000 of 66292\n",
      "Review 41000 of 66292\n",
      "Review 42000 of 66292\n",
      "Review 43000 of 66292\n",
      "Review 44000 of 66292\n",
      "Review 45000 of 66292\n",
      "Review 46000 of 66292\n",
      "Review 47000 of 66292\n",
      "Review 48000 of 66292\n",
      "Review 49000 of 66292\n",
      "Review 50000 of 66292\n",
      "Review 51000 of 66292\n",
      "Review 52000 of 66292\n",
      "Review 53000 of 66292\n",
      "Review 54000 of 66292\n",
      "Review 55000 of 66292\n",
      "Review 56000 of 66292\n",
      "Review 57000 of 66292\n",
      "Review 58000 of 66292\n",
      "Review 59000 of 66292\n",
      "Review 60000 of 66292\n",
      "Review 61000 of 66292\n",
      "Review 62000 of 66292\n",
      "Review 63000 of 66292\n",
      "Review 64000 of 66292\n",
      "Review 65000 of 66292\n",
      "Review 66000 of 66292\n"
     ]
    }
   ],
   "source": [
    "trainVecs = getAvgFeatureVecs(trainPhrases, model, 300)\n",
    "testVecs = getAvgFeatureVecs(testPhrases, model, 300)"
   ]
  },
  {
   "cell_type": "code",
   "execution_count": 39,
   "metadata": {
    "collapsed": false
   },
   "outputs": [
    {
     "name": "stdout",
     "output_type": "stream",
     "text": [
      "Fitting a random forest to labeled training data...\n"
     ]
    }
   ],
   "source": [
    "# Fit a random forest to the training data, using 100 trees\n",
    "from sklearn.ensemble import RandomForestClassifier\n",
    "forest = RandomForestClassifier( n_estimators = 100 )\n",
    "\n",
    "print \"Fitting a random forest to labeled training data...\"\n",
    "forest = forest.fit( trainVecs, train.Sentiment)\n",
    "\n",
    "# Test & extract results \n",
    "result = forest.predict( testVecs )\n",
    "\n",
    "# Write the test results \n",
    "output = pd.DataFrame({\n",
    "    'PhraseId': test.PhraseId,\n",
    "    'Sentiment': result\n",
    "})\n",
    "output.to_csv( \"Word2Vec_AverageVectors.csv\", index=False, quoting=3 )"
   ]
  },
  {
   "cell_type": "code",
   "execution_count": 40,
   "metadata": {
    "collapsed": false
   },
   "outputs": [
    {
     "name": "stdout",
     "output_type": "stream",
     "text": [
      "Time taken for K Means clustering:  16.08842206 seconds.\n"
     ]
    }
   ],
   "source": [
    "from sklearn.cluster import KMeans\n",
    "import time\n",
    "\n",
    "start = time.time() # Start time\n",
    "\n",
    "# Set \"k\" (num_clusters) to be 1/5th of the vocabulary size, or an\n",
    "# average of 5 words per cluster\n",
    "word_vectors = model.syn0\n",
    "num_clusters = word_vectors.shape[0] / 5\n",
    "\n",
    "# Initalize a k-means object and use it to extract centroids\n",
    "kmeans_clustering = KMeans( n_clusters = num_clusters )\n",
    "idx = kmeans_clustering.fit_predict( word_vectors )\n",
    "\n",
    "# Get the end time and print how long the process took\n",
    "end = time.time()\n",
    "elapsed = end - start\n",
    "print \"Time taken for K Means clustering: \", elapsed, \"seconds.\""
   ]
  },
  {
   "cell_type": "code",
   "execution_count": 41,
   "metadata": {
    "collapsed": true
   },
   "outputs": [],
   "source": [
    "# Create a Word / Index dictionary, mapping each vocabulary word to\n",
    "# a cluster number                                                                                            \n",
    "word_centroid_map = dict(zip( model.index2word, idx ))"
   ]
  },
  {
   "cell_type": "code",
   "execution_count": 42,
   "metadata": {
    "collapsed": false
   },
   "outputs": [
    {
     "name": "stdout",
     "output_type": "stream",
     "text": [
      "\n",
      "Cluster 0\n",
      "[u'minds', u'mentally', u'souls', u'perspective', u'knowledge']\n",
      "\n",
      "Cluster 1\n",
      "[u'terrific', u'escapism', u'attractive']\n",
      "\n",
      "Cluster 2\n",
      "[u'skip', u'visit', u'rent', u'theatre', u'create', u'buy']\n",
      "\n",
      "Cluster 3\n",
      "[u'dry', u'score', u'animation', u'humor', u'creative', u'verve', u'visual', u'imagination', u'style', u'purpose', u'wit', u'excitement']\n",
      "\n",
      "Cluster 4\n",
      "[u'edgy', u'ill', u'impressive', u'violent', u'oddly', u'sensual', u'throughout', u'energetic', u'irritating', u'unpredictable', u'hilarious', u'intermittently', u'deceptively', u'inventive']\n",
      "\n",
      "Cluster 5\n",
      "[u'ahead']\n",
      "\n",
      "Cluster 6\n",
      "[u'unconventional', u'watchable', u'damn', u'decent', u'offensive']\n",
      "\n",
      "Cluster 7\n",
      "[u'extreme', u'packed', u'pic']\n",
      "\n",
      "Cluster 8\n",
      "[u'artificial', u'unexpectedly', u'engrossing', u'unusual', u'deeply', u'fellow', u'intense', u'portrait', u'undeniably', u'poignant']\n",
      "\n",
      "Cluster 9\n",
      "[u'traditions', u'sketchy', u'severe', u'terrorism']\n"
     ]
    }
   ],
   "source": [
    "# For the first 10 clusters\n",
    "for cluster in xrange(0,10):\n",
    "    #\n",
    "    # Print the cluster number  \n",
    "    print \"\\nCluster %d\" % cluster\n",
    "    #\n",
    "    # Find all of the words for that cluster number, and print them out\n",
    "    words = []\n",
    "    for i in xrange(0,len(word_centroid_map.values())):\n",
    "        if( word_centroid_map.values()[i] == cluster ):\n",
    "            words.append(word_centroid_map.keys()[i])\n",
    "    print words"
   ]
  },
  {
   "cell_type": "code",
   "execution_count": 43,
   "metadata": {
    "collapsed": true
   },
   "outputs": [],
   "source": [
    "def create_bag_of_centroids( wordlist, word_centroid_map ):\n",
    "    #\n",
    "    # The number of clusters is equal to the highest cluster index\n",
    "    # in the word / centroid map\n",
    "    num_centroids = max( word_centroid_map.values() ) + 1\n",
    "    #\n",
    "    # Pre-allocate the bag of centroids vector (for speed)\n",
    "    bag_of_centroids = np.zeros( num_centroids, dtype=\"float32\" )\n",
    "    #\n",
    "    # Loop over the words in the review. If the word is in the vocabulary,\n",
    "    # find which cluster it belongs to, and increment that cluster count \n",
    "    # by one\n",
    "    for word in wordlist:\n",
    "        if word in word_centroid_map:\n",
    "            index = word_centroid_map[word]\n",
    "            bag_of_centroids[index] += 1\n",
    "    #\n",
    "    # Return the \"bag of centroids\"\n",
    "    return bag_of_centroids"
   ]
  },
  {
   "cell_type": "code",
   "execution_count": 44,
   "metadata": {
    "collapsed": true
   },
   "outputs": [],
   "source": [
    "# Pre-allocate an array for the training set bags of centroids (for speed)\n",
    "train_centroids = np.zeros( (train.Phrase.size, num_clusters), \\\n",
    "    dtype=\"float32\" )\n",
    "\n",
    "# Transform the training set reviews into bags of centroids\n",
    "counter = 0\n",
    "for phrase in trainPhrases:\n",
    "    train_centroids[counter] = create_bag_of_centroids( phrase, \\\n",
    "        word_centroid_map )\n",
    "    counter += 1\n",
    "\n",
    "# Repeat for test reviews \n",
    "test_centroids = np.zeros(( test.Phrase.size, num_clusters), \\\n",
    "    dtype=\"float32\" )\n",
    "\n",
    "counter = 0\n",
    "for phrase in testPhrases:\n",
    "    test_centroids[counter] = create_bag_of_centroids( phrase, \\\n",
    "        word_centroid_map )\n",
    "    counter += 1"
   ]
  },
  {
   "cell_type": "code",
   "execution_count": 45,
   "metadata": {
    "collapsed": false
   },
   "outputs": [
    {
     "name": "stdout",
     "output_type": "stream",
     "text": [
      "Fitting a random forest to labeled training data...\n"
     ]
    }
   ],
   "source": [
    "# Fit a random forest and extract predictions \n",
    "forest = RandomForestClassifier(n_estimators = 100)\n",
    "\n",
    "# Fitting the forest may take a few minutes\n",
    "print \"Fitting a random forest to labeled training data...\"\n",
    "forest = forest.fit(train_centroids, train.Sentiment)\n",
    "result = forest.predict(test_centroids)\n",
    " \n",
    "# Write the test results \n",
    "output = pd.DataFrame({\n",
    "    'PhraseId': test.PhraseId,\n",
    "    'Sentiment': result\n",
    "})\n",
    "output.to_csv( \"BagOfCentroids.csv\", index=False, quoting=3 )"
   ]
  },
  {
   "cell_type": "code",
   "execution_count": null,
   "metadata": {
    "collapsed": true
   },
   "outputs": [],
   "source": []
  }
 ],
 "metadata": {
  "kernelspec": {
   "display_name": "Python 2",
   "language": "python",
   "name": "python2"
  },
  "language_info": {
   "codemirror_mode": {
    "name": "ipython",
    "version": 2
   },
   "file_extension": ".py",
   "mimetype": "text/x-python",
   "name": "python",
   "nbconvert_exporter": "python",
   "pygments_lexer": "ipython2",
   "version": "2.7.11"
  }
 },
 "nbformat": 4,
 "nbformat_minor": 0
}
