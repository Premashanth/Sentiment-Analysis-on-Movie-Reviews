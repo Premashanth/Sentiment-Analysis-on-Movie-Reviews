{
 "cells": [
  {
   "cell_type": "markdown",
   "metadata": {},
   "source": [
    "## Load the data"
   ]
  },
  {
   "cell_type": "code",
   "execution_count": 20,
   "metadata": {
    "collapsed": false
   },
   "outputs": [
    {
     "data": {
      "text/plain": [
       "(156060, 4)"
      ]
     },
     "execution_count": 20,
     "metadata": {},
     "output_type": "execute_result"
    }
   ],
   "source": [
    "%matplotlib inline\n",
    "\n",
    "import pandas as pd\n",
    "import numpy as np\n",
    "import matplotlib.pyplot as plt\n",
    "import seaborn as sns\n",
    "\n",
    "\n",
    "train = pd.read_csv('../../data/train.tsv', sep='\\t')\n",
    "test = pd.read_csv('../../data/test.tsv', sep='\\t')\n",
    "train.shape"
   ]
  },
  {
   "cell_type": "markdown",
   "metadata": {},
   "source": [
    "We load more data to train our word2vec models in order to make it understand the relationship among words better in a general sense"
   ]
  },
  {
   "cell_type": "code",
   "execution_count": 21,
   "metadata": {
    "collapsed": false,
    "scrolled": true
   },
   "outputs": [
    {
     "name": "stdout",
     "output_type": "stream",
     "text": [
      "Read 25000 labeled train reviews, 25000 labeled test reviews, and 50000 unlabeled reviews\n",
      "\n"
     ]
    }
   ],
   "source": [
    "\n",
    "# Read data from files \n",
    "BPtrain = pd.read_csv( \"labeledTrainData.tsv\", header=0, delimiter=\"\\t\", quoting=3 )\n",
    "BPtest = pd.read_csv( \"testData.tsv\", header=0, delimiter=\"\\t\", quoting=3 )\n",
    "BP_unlabeled_train = pd.read_csv( \"unlabeledTrainData.tsv\", header=0, delimiter=\"\\t\", quoting=3 )\n",
    "\n",
    "# Verify the number of reviews\n",
    "print \"Read %d labeled train reviews, %d labeled test reviews, \" \\\n",
    " \"and %d unlabeled reviews\\n\" % (BPtrain[\"review\"].size,  BPtest[\"review\"].size, BP_unlabeled_train[\"review\"].size )\n"
   ]
  },
  {
   "cell_type": "markdown",
   "metadata": {},
   "source": [
    "## Simple preprossing date (cleaning data)\n",
    "\n",
    "We use some nice libraries like beautifulsoup, regular experssion(re) to remove some non alphabetical words in order to make the data \"nicer\" for the model to train later. This function will take a phrase or sentence and break into a list of individual words."
   ]
  },
  {
   "cell_type": "code",
   "execution_count": 22,
   "metadata": {
    "collapsed": true
   },
   "outputs": [],
   "source": [
    "# Import various modules for string cleaning\n",
    "from bs4 import BeautifulSoup\n",
    "import re\n",
    "from nltk.corpus import stopwords\n",
    "\n",
    "def phrase_to_wordlist(review, remove_stopwords=False):\n",
    "    # Function to convert a document to a sequence of words,\n",
    "    # optionally removing stop words.  Returns a list of words.\n",
    "    #\n",
    "    # 1. Remove HTML\n",
    "    phrase_text = BeautifulSoup(review).get_text()\n",
    "    #  \n",
    "    # 2. Remove non-letters\n",
    "    phrase_text = re.sub(\"[^a-zA-Z]\",\" \", phrase_text)\n",
    "    #\n",
    "    # 3. Convert words to lower case and split them\n",
    "    words = phrase_text.lower().split()\n",
    "    #\n",
    "    # 4. Optionally remove stop words (false by default)\n",
    "    if remove_stopwords:\n",
    "        stops = set(stopwords.words(\"english\"))\n",
    "        words = [w for w in words if not w in stops]\n",
    "    #\n",
    "    # 5. Return a list of words\n",
    "    return words"
   ]
  },
  {
   "cell_type": "markdown",
   "metadata": {},
   "source": [
    "In this rotten reviews data set, all the data are organized into units of phrases or sentences already. However, for some additional data set we loaded previously, they are a body of String data without being broken down by language natural tokens yet. So in this following function, we use a method from natural language processsing library(nltk) implemented by standford university, tokenizer to split paragraph into sentences.  "
   ]
  },
  {
   "cell_type": "code",
   "execution_count": 1,
   "metadata": {
    "collapsed": true
   },
   "outputs": [],
   "source": [
    "# Download the punkt tokenizer for sentence splitting\n",
    "import nltk.data\n",
    "\n",
    "# Load the punkt tokenizer\n",
    "tokenizer = nltk.data.load('tokenizers/punkt/english.pickle')\n",
    "\n",
    "# Define a function to split a review into parsed sentences\n",
    "def review_to_sentences( review, tokenizer, remove_stopwords=False ):\n",
    "    # Function to split a review into parsed sentences. Returns a \n",
    "    # list of sentences, where each sentence is a list of words\n",
    "    #\n",
    "    # 1. Use the NLTK tokenizer to split the paragraph into sentences\n",
    "    review = review.decode('unicode_escape').encode('ascii', 'ignore')\n",
    "    raw_sentences = tokenizer.tokenize(review.strip())\n",
    "    #\n",
    "    # 2. Loop over each sentence\n",
    "    sentences = []\n",
    "    for raw_sentence in raw_sentences:\n",
    "        # If a sentence is empty, skip it\n",
    "        if len(raw_sentence) > 0:\n",
    "            # Otherwise, call review_to_wordlist to get a list of words\n",
    "            sentences.append( phrase_to_wordlist( raw_sentence, \\\n",
    "              remove_stopwords ))\n",
    "    #\n",
    "    # Return the list of sentences (each sentence is a list of words,\n",
    "    # so this returns a list of lists\n",
    "    return sentences"
   ]
  },
  {
   "cell_type": "code",
   "execution_count": 27,
   "metadata": {
    "collapsed": false
   },
   "outputs": [
    {
     "name": "stdout",
     "output_type": "stream",
     "text": [
      "156060\n",
      "66292\n"
     ]
    }
   ],
   "source": [
    "trainPhrases = []\n",
    "for phrase in train.Phrase:\n",
    "    trainPhrases.append(phrase_to_wordlist(phrase))\n",
    "\n",
    "print len(trainPhrases)\n",
    "\n",
    "testPhrases = []\n",
    "for phrase in test.Phrase:\n",
    "    testPhrases.append(phrase_to_wordlist(phrase))\n",
    "    \n",
    "print len(testPhrases)"
   ]
  },
  {
   "cell_type": "code",
   "execution_count": 28,
   "metadata": {
    "collapsed": false
   },
   "outputs": [
    {
     "name": "stdout",
     "output_type": "stream",
     "text": [
      "Parsing sentences from training set\n",
      "Parsing sentences from unlabeled set"
     ]
    },
    {
     "name": "stderr",
     "output_type": "stream",
     "text": [
      "/home/zhecan/anaconda2/lib/python2.7/site-packages/bs4/__init__.py:207: UserWarning: \"http://www.happierabroad.com\"\" looks like a URL. Beautiful Soup is not an HTTP client. You should probably use an HTTP client to get the document behind the URL, and feed that document to Beautiful Soup.\n",
      "  '\"%s\" looks like a URL. Beautiful Soup is not an HTTP client. You should probably use an HTTP client to get the document behind the URL, and feed that document to Beautiful Soup.' % markup)\n",
      "/home/zhecan/anaconda2/lib/python2.7/site-packages/bs4/__init__.py:207: UserWarning: \"http://www.archive.org/details/LovefromaStranger\"\" looks like a URL. Beautiful Soup is not an HTTP client. You should probably use an HTTP client to get the document behind the URL, and feed that document to Beautiful Soup.\n",
      "  '\"%s\" looks like a URL. Beautiful Soup is not an HTTP client. You should probably use an HTTP client to get the document behind the URL, and feed that document to Beautiful Soup.' % markup)\n",
      "/home/zhecan/anaconda2/lib/python2.7/site-packages/bs4/__init__.py:207: UserWarning: \"http://www.loosechangeguide.com/LooseChangeGuide.html\"\" looks like a URL. Beautiful Soup is not an HTTP client. You should probably use an HTTP client to get the document behind the URL, and feed that document to Beautiful Soup.\n",
      "  '\"%s\" looks like a URL. Beautiful Soup is not an HTTP client. You should probably use an HTTP client to get the document behind the URL, and feed that document to Beautiful Soup.' % markup)\n",
      "/home/zhecan/anaconda2/lib/python2.7/site-packages/bs4/__init__.py:207: UserWarning: \"http://www.msnbc.msn.com/id/4972055/site/newsweek/\"\" looks like a URL. Beautiful Soup is not an HTTP client. You should probably use an HTTP client to get the document behind the URL, and feed that document to Beautiful Soup.\n",
      "  '\"%s\" looks like a URL. Beautiful Soup is not an HTTP client. You should probably use an HTTP client to get the document behind the URL, and feed that document to Beautiful Soup.' % markup)\n",
      "/home/zhecan/anaconda2/lib/python2.7/site-packages/bs4/__init__.py:198: UserWarning: \"..\" looks like a filename, not markup. You should probably open this file and pass the filehandle into Beautiful Soup.\n",
      "  '\"%s\" looks like a filename, not markup. You should probably open this file and pass the filehandle into Beautiful Soup.' % markup)\n",
      "/home/zhecan/anaconda2/lib/python2.7/site-packages/bs4/__init__.py:207: UserWarning: \"http://www.youtube.com/watch?v=a0KSqelmgN8\"\" looks like a URL. Beautiful Soup is not an HTTP client. You should probably use an HTTP client to get the document behind the URL, and feed that document to Beautiful Soup.\n",
      "  '\"%s\" looks like a URL. Beautiful Soup is not an HTTP client. You should probably use an HTTP client to get the document behind the URL, and feed that document to Beautiful Soup.' % markup)\n"
     ]
    },
    {
     "name": "stdout",
     "output_type": "stream",
     "text": [
      "\n"
     ]
    },
    {
     "name": "stderr",
     "output_type": "stream",
     "text": [
      "/home/zhecan/anaconda2/lib/python2.7/site-packages/bs4/__init__.py:207: UserWarning: \"http://jake-weird.blogspot.com/2007/08/beneath.html\"\" looks like a URL. Beautiful Soup is not an HTTP client. You should probably use an HTTP client to get the document behind the URL, and feed that document to Beautiful Soup.\n",
      "  '\"%s\" looks like a URL. Beautiful Soup is not an HTTP client. You should probably use an HTTP client to get the document behind the URL, and feed that document to Beautiful Soup.' % markup)\n"
     ]
    }
   ],
   "source": [
    "sentences = []  # Initialize an empty list of sentences\n",
    "\n",
    "print \"Parsing sentences from training set\"\n",
    "for review in BPtrain[\"review\"]:\n",
    "    sentences += review_to_sentences(review, tokenizer)\n",
    "\n",
    "print \"Parsing sentences from unlabeled set\"\n",
    "for review in BP_unlabeled_train[\"review\"]:\n",
    "    sentences += review_to_sentences(review, tokenizer)\n"
   ]
  },
  {
   "cell_type": "markdown",
   "metadata": {},
   "source": [
    "We combine the rotten reviews trainning data and additional data from other moive reviews together for trainning purpose."
   ]
  },
  {
   "cell_type": "code",
   "execution_count": 30,
   "metadata": {
    "collapsed": false
   },
   "outputs": [],
   "source": [
    "phrases = trainPhrases + testPhrases + sentences"
   ]
  },
  {
   "cell_type": "markdown",
   "metadata": {},
   "source": [
    "Simply printing out some of the data to double check the format"
   ]
  },
  {
   "cell_type": "code",
   "execution_count": 32,
   "metadata": {
    "collapsed": false
   },
   "outputs": [
    {
     "name": "stdout",
     "output_type": "stream",
     "text": [
      "[u'with', u'all', u'this', u'stuff', u'going', u'down', u'at', u'the', u'moment', u'with', u'mj', u'i', u've', u'started', u'listening', u'to', u'his', u'music', u'watching', u'the', u'odd', u'documentary', u'here', u'and', u'there', u'watched', u'the', u'wiz', u'and', u'watched', u'moonwalker', u'again']\n"
     ]
    }
   ],
   "source": [
    "print sentences[0]"
   ]
  },
  {
   "cell_type": "code",
   "execution_count": 34,
   "metadata": {
    "collapsed": false
   },
   "outputs": [
    {
     "name": "stdout",
     "output_type": "stream",
     "text": [
      "[[u'a', u'series', u'of', u'escapades', u'demonstrating', u'the', u'adage', u'that', u'what', u'is', u'good', u'for', u'the', u'goose', u'is', u'also', u'good', u'for', u'the', u'gander', u'some', u'of', u'which', u'occasionally', u'amuses', u'but', u'none', u'of', u'which', u'amounts', u'to', u'much', u'of', u'a', u'story'], [u'a', u'series', u'of', u'escapades', u'demonstrating', u'the', u'adage', u'that', u'what', u'is', u'good', u'for', u'the', u'goose']]\n"
     ]
    }
   ],
   "source": [
    "print phrases[0:2]"
   ]
  },
  {
   "cell_type": "markdown",
   "metadata": {},
   "source": [
    "## Complicated preprocessing data (word2vec model extraction)"
   ]
  },
  {
   "cell_type": "markdown",
   "metadata": {},
   "source": [
    "Word2vec, published by Google in 2013, is a neural network implementation that learns distributed representations for words. Other deep or recurrent neural network architectures had been proposed for learning word representations prior to this, but the major problem with these was the long time required to train the models. Word2vec learns quickly relative to other models.\n",
    "\n",
    "Word2Vec does not need labels in order to create meaningful representations. This is useful, since most data in the real world is unlabeled. If the network is given enough training data (tens of billions of words), it produces word vectors with intriguing characteristics. Words with similar meanings appear in clusters, and clusters are spaced such that some word relationships, such as analogies, can be reproduced using vector math. The famous example is that, with highly trained word vectors, \"king - man + woman = queen.\"\n",
    "\n"
   ]
  },
  {
   "cell_type": "code",
   "execution_count": 31,
   "metadata": {
    "collapsed": false
   },
   "outputs": [
    {
     "name": "stdout",
     "output_type": "stream",
     "text": [
      "Training model...\n"
     ]
    }
   ],
   "source": [
    "# Import the built-in logging module and configure it so that Word2Vec \n",
    "# creates nice output messages\n",
    "import logging\n",
    "logging.basicConfig(format='%(asctime)s : %(levelname)s : %(message)s',\\\n",
    "    level=logging.INFO)\n",
    "\n",
    "# Set values for various parameters\n",
    "num_features = 300    # Word vector dimensionality                      \n",
    "min_word_count = 40   # Minimum word count                        \n",
    "num_workers = 4       # Number of threads to run in parallel\n",
    "context = 10          # Context window size                                                                                    \n",
    "downsampling = 1e-3   # Downsample setting for frequent words\n",
    "\n",
    "# Initialize and train the model (this will take some time)\n",
    "from gensim.models import word2vec\n",
    "print \"Training model...\"\n",
    "model = word2vec.Word2Vec(phrases, workers=num_workers, \\\n",
    "            size=num_features, min_count = min_word_count, \\\n",
    "            window = context, sample = downsampling)\n",
    "\n",
    "# If you don't plan to train the model any further, calling \n",
    "# init_sims will make the model much more memory-efficient.\n",
    "model.init_sims(replace=True)\n",
    "\n",
    "# It can be helpful to create a meaningful model name and \n",
    "# save the model for later use. You can load it later using Word2Vec.load()\n",
    "model_name = \"300features_40minwords_10context\"\n",
    "model.save(model_name)"
   ]
  },
  {
   "cell_type": "markdown",
   "metadata": {},
   "source": [
    "Simple testing the performance of the word2vec model "
   ]
  },
  {
   "cell_type": "code",
   "execution_count": 35,
   "metadata": {
    "collapsed": false
   },
   "outputs": [
    {
     "data": {
      "text/plain": [
       "[(u'depressing', 0.4915430545806885),\n",
       " (u'touching', 0.46004241704940796),\n",
       " (u'tragic', 0.441736102104187),\n",
       " (u'funny', 0.4123876690864563),\n",
       " (u'happy', 0.40222442150115967),\n",
       " (u'poignant', 0.3925257921218872),\n",
       " (u'indeed', 0.3911186158657074),\n",
       " (u'pathetic', 0.3739069104194641),\n",
       " (u'sweet', 0.3601635694503784),\n",
       " (u'disappointing', 0.3533294200897217)]"
      ]
     },
     "execution_count": 35,
     "metadata": {},
     "output_type": "execute_result"
    }
   ],
   "source": [
    "model.most_similar(\"sad\")"
   ]
  },
  {
   "cell_type": "code",
   "execution_count": 39,
   "metadata": {
    "collapsed": false
   },
   "outputs": [],
   "source": [
    "def makeFeatureVec(words, model, num_features):\n",
    "    # Function to average all of the word vectors in a given\n",
    "    # paragraph\n",
    "    #\n",
    "    # Pre-initialize an empty numpy array (for speed)\n",
    "    featureVec = np.zeros((num_features,),dtype=\"float32\")\n",
    "    #\n",
    "    nwords = 0.\n",
    "    # \n",
    "    # Index2word is a list that contains the names of the words in \n",
    "    # the model's vocabulary. Convert it to a set, for speed \n",
    "    index2word_set = set(model.index2word)\n",
    "    #\n",
    "    # Loop over each word in the review and, if it is in the model's\n",
    "    # vocaublary, add its feature vector to the total\n",
    "    for word in words:\n",
    "        if word in index2word_set: \n",
    "            nwords = nwords + 1.\n",
    "            featureVec = np.add(featureVec,model[word])\n",
    "    # \n",
    "    # Divide the result by the number of words to get the average\n",
    "    if nwords > 0:\n",
    "        featureVec = np.divide(featureVec,nwords)\n",
    "        \n",
    "    return featureVec\n",
    "\n",
    "def getAvgFeatureVecs(reviews, model, num_features):\n",
    "    # Given a set of reviews (each one a list of words), calculate \n",
    "    # the average feature vector for each one and return a 2D numpy array \n",
    "    # \n",
    "    # Initialize a counter\n",
    "    counter = 0.\n",
    "    # \n",
    "    # Preallocate a 2D numpy array, for speed\n",
    "    reviewFeatureVecs = np.zeros((len(reviews),num_features),dtype=\"float32\")\n",
    "    # \n",
    "    # Loop through the reviews\n",
    "    for review in reviews:\n",
    "       #\n",
    "       # Print a status message every 1000th review\n",
    "       if counter%1000. == 0.:\n",
    "           print \"Review %d of %d\" % (counter, len(reviews))\n",
    "       # \n",
    "       # Call the function (defined above) that makes average feature vectors\n",
    "       reviewFeatureVecs[counter] = makeFeatureVec(review, model, \\\n",
    "           num_features)\n",
    "       #\n",
    "       # Increment the counter\n",
    "       counter = counter + 1.\n",
    "    return reviewFeatureVecs\n"
   ]
  },
  {
   "cell_type": "code",
   "execution_count": 40,
   "metadata": {
    "collapsed": false
   },
   "outputs": [
    {
     "name": "stdout",
     "output_type": "stream",
     "text": [
      "Review 0 of 156060\n",
      "Review 1000 of 156060\n",
      "Review 2000 of 156060\n",
      "Review 3000 of 156060\n",
      "Review 4000 of 156060\n",
      "Review 5000 of 156060\n",
      "Review 6000 of 156060\n",
      "Review 7000 of 156060\n",
      "Review 8000 of 156060\n",
      "Review 9000 of 156060\n",
      "Review 10000 of 156060\n",
      "Review 11000 of 156060\n",
      "Review 12000 of 156060\n",
      "Review 13000 of 156060\n",
      "Review 14000 of 156060\n",
      "Review 15000 of 156060\n",
      "Review 16000 of 156060\n",
      "Review 17000 of 156060\n",
      "Review 18000 of 156060\n",
      "Review 19000 of 156060\n",
      "Review 20000 of 156060\n",
      "Review 21000 of 156060\n",
      "Review 22000 of 156060\n",
      "Review 23000 of 156060\n",
      "Review 24000 of 156060\n",
      "Review 25000 of 156060\n",
      "Review 26000 of 156060\n",
      "Review 27000 of 156060\n",
      "Review 28000 of 156060\n",
      "Review 29000 of 156060\n",
      "Review 30000 of 156060\n",
      "Review 31000 of 156060\n",
      "Review 32000 of 156060\n",
      "Review 33000 of 156060\n",
      "Review 34000 of 156060\n",
      "Review 35000 of 156060\n",
      "Review 36000 of 156060\n",
      "Review 37000 of 156060\n",
      "Review 38000 of 156060\n",
      "Review 39000 of 156060\n",
      "Review 40000 of 156060\n",
      "Review 41000 of 156060\n",
      "Review 42000 of 156060\n",
      "Review 43000 of 156060\n",
      "Review 44000 of 156060\n",
      "Review 45000 of 156060\n",
      "Review 46000 of 156060\n",
      "Review 47000 of 156060\n",
      "Review 48000 of 156060\n",
      "Review 49000 of 156060\n",
      "Review 50000 of 156060\n",
      "Review 51000 of 156060\n",
      "Review 52000 of 156060\n",
      "Review 53000 of 156060\n",
      "Review 54000 of 156060\n",
      "Review 55000 of 156060\n",
      "Review 56000 of 156060\n",
      "Review 57000 of 156060\n",
      "Review 58000 of 156060\n",
      "Review 59000 of 156060\n",
      "Review 60000 of 156060\n",
      "Review 61000 of 156060\n",
      "Review 62000 of 156060\n",
      "Review 63000 of 156060\n",
      "Review 64000 of 156060\n",
      "Review 65000 of 156060\n",
      "Review 66000 of 156060\n",
      "Review 67000 of 156060\n",
      "Review 68000 of 156060\n",
      "Review 69000 of 156060\n",
      "Review 70000 of 156060\n",
      "Review 71000 of 156060\n",
      "Review 72000 of 156060\n",
      "Review 73000 of 156060\n",
      "Review 74000 of 156060\n",
      "Review 75000 of 156060\n",
      "Review 76000 of 156060\n",
      "Review 77000 of 156060\n",
      "Review 78000 of 156060\n",
      "Review 79000 of 156060\n",
      "Review 80000 of 156060\n",
      "Review 81000 of 156060\n",
      "Review 82000 of 156060\n",
      "Review 83000 of 156060\n",
      "Review 84000 of 156060\n",
      "Review 85000 of 156060\n",
      "Review 86000 of 156060\n",
      "Review 87000 of 156060\n",
      "Review 88000 of 156060\n",
      "Review 89000 of 156060\n",
      "Review 90000 of 156060\n",
      "Review 91000 of 156060\n",
      "Review 92000 of 156060\n",
      "Review 93000 of 156060\n",
      "Review 94000 of 156060\n",
      "Review 95000 of 156060\n",
      "Review 96000 of 156060\n",
      "Review 97000 of 156060\n",
      "Review 98000 of 156060\n",
      "Review 99000 of 156060\n",
      "Review 100000 of 156060\n",
      "Review 101000 of 156060\n",
      "Review 102000 of 156060\n",
      "Review 103000 of 156060\n",
      "Review 104000 of 156060\n",
      "Review 105000 of 156060\n",
      "Review 106000 of 156060\n",
      "Review 107000 of 156060\n",
      "Review 108000 of 156060\n",
      "Review 109000 of 156060\n",
      "Review 110000 of 156060\n",
      "Review 111000 of 156060\n",
      "Review 112000 of 156060\n",
      "Review 113000 of 156060\n",
      "Review 114000 of 156060\n",
      "Review 115000 of 156060\n",
      "Review 116000 of 156060\n",
      "Review 117000 of 156060\n",
      "Review 118000 of 156060\n",
      "Review 119000 of 156060\n",
      "Review 120000 of 156060\n",
      "Review 121000 of 156060\n",
      "Review 122000 of 156060\n",
      "Review 123000 of 156060\n",
      "Review 124000 of 156060\n",
      "Review 125000 of 156060\n",
      "Review 126000 of 156060\n",
      "Review 127000 of 156060\n",
      "Review 128000 of 156060\n",
      "Review 129000 of 156060\n",
      "Review 130000 of 156060\n",
      "Review 131000 of 156060\n",
      "Review 132000 of 156060\n",
      "Review 133000 of 156060\n",
      "Review 134000 of 156060\n",
      "Review 135000 of 156060\n",
      "Review 136000 of 156060\n",
      "Review 137000 of 156060\n",
      "Review 138000 of 156060\n",
      "Review 139000 of 156060\n",
      "Review 140000 of 156060\n",
      "Review 141000 of 156060\n",
      "Review 142000 of 156060\n",
      "Review 143000 of 156060\n",
      "Review 144000 of 156060\n",
      "Review 145000 of 156060\n",
      "Review 146000 of 156060\n",
      "Review 147000 of 156060\n",
      "Review 148000 of 156060\n",
      "Review 149000 of 156060\n",
      "Review 150000 of 156060\n",
      "Review 151000 of 156060\n",
      "Review 152000 of 156060\n",
      "Review 153000 of 156060\n",
      "Review 154000 of 156060\n",
      "Review 155000 of 156060\n",
      "Review 156000 of 156060\n",
      "Review 0 of 66292\n",
      "Review 1000 of 66292\n",
      "Review 2000 of 66292\n",
      "Review 3000 of 66292\n",
      "Review 4000 of 66292\n",
      "Review 5000 of 66292\n",
      "Review 6000 of 66292\n",
      "Review 7000 of 66292\n",
      "Review 8000 of 66292\n",
      "Review 9000 of 66292\n",
      "Review 10000 of 66292\n",
      "Review 11000 of 66292\n",
      "Review 12000 of 66292\n",
      "Review 13000 of 66292\n",
      "Review 14000 of 66292\n",
      "Review 15000 of 66292\n",
      "Review 16000 of 66292\n",
      "Review 17000 of 66292\n",
      "Review 18000 of 66292\n",
      "Review 19000 of 66292\n",
      "Review 20000 of 66292\n",
      "Review 21000 of 66292\n",
      "Review 22000 of 66292\n",
      "Review 23000 of 66292\n",
      "Review 24000 of 66292\n",
      "Review 25000 of 66292\n",
      "Review 26000 of 66292\n",
      "Review 27000 of 66292\n",
      "Review 28000 of 66292\n",
      "Review 29000 of 66292\n",
      "Review 30000 of 66292\n",
      "Review 31000 of 66292\n",
      "Review 32000 of 66292\n",
      "Review 33000 of 66292\n",
      "Review 34000 of 66292\n",
      "Review 35000 of 66292\n",
      "Review 36000 of 66292\n",
      "Review 37000 of 66292\n",
      "Review 38000 of 66292\n",
      "Review 39000 of 66292\n",
      "Review 40000 of 66292\n",
      "Review 41000 of 66292\n",
      "Review 42000 of 66292\n",
      "Review 43000 of 66292\n",
      "Review 44000 of 66292\n",
      "Review 45000 of 66292\n",
      "Review 46000 of 66292\n",
      "Review 47000 of 66292\n",
      "Review 48000 of 66292\n",
      "Review 49000 of 66292\n",
      "Review 50000 of 66292\n",
      "Review 51000 of 66292\n",
      "Review 52000 of 66292\n",
      "Review 53000 of 66292\n",
      "Review 54000 of 66292\n",
      "Review 55000 of 66292\n",
      "Review 56000 of 66292\n",
      "Review 57000 of 66292\n",
      "Review 58000 of 66292\n",
      "Review 59000 of 66292\n",
      "Review 60000 of 66292\n",
      "Review 61000 of 66292\n",
      "Review 62000 of 66292\n",
      "Review 63000 of 66292\n",
      "Review 64000 of 66292\n",
      "Review 65000 of 66292\n",
      "Review 66000 of 66292\n"
     ]
    },
    {
     "name": "stderr",
     "output_type": "stream",
     "text": [
      "/home/zhecan/anaconda2/lib/python2.7/site-packages/ipykernel/__main__.py:45: DeprecationWarning: using a non-integer number instead of an integer will result in an error in the future\n"
     ]
    }
   ],
   "source": [
    "trainVecs = getAvgFeatureVecs(trainPhrases, model, 300)\n",
    "testVecs = getAvgFeatureVecs(testPhrases, model, 300)"
   ]
  },
  {
   "cell_type": "code",
   "execution_count": 41,
   "metadata": {
    "collapsed": false
   },
   "outputs": [
    {
     "name": "stdout",
     "output_type": "stream",
     "text": [
      "Fitting a random forest to labeled training data...\n"
     ]
    }
   ],
   "source": [
    "# Fit a random forest to the training data, using 100 trees\n",
    "from sklearn.ensemble import RandomForestClassifier\n",
    "forest = RandomForestClassifier( n_estimators = 100 )\n",
    "\n",
    "print \"Fitting a random forest to labeled training data...\"\n",
    "forest = forest.fit( trainVecs, train.Sentiment)\n",
    "\n",
    "# Test & extract results \n",
    "result = forest.predict( testVecs )\n",
    "\n",
    "# Write the test results \n",
    "output = pd.DataFrame({\n",
    "    'PhraseId': test.PhraseId,\n",
    "    'Sentiment': result\n",
    "})\n",
    "output.to_csv( \"Word2Vec_AverageVectors.csv\", index=False, quoting=3 )"
   ]
  },
  {
   "cell_type": "code",
   "execution_count": null,
   "metadata": {
    "collapsed": true
   },
   "outputs": [],
   "source": []
  }
 ],
 "metadata": {
  "kernelspec": {
   "display_name": "Python 2",
   "language": "python",
   "name": "python2"
  },
  "language_info": {
   "codemirror_mode": {
    "name": "ipython",
    "version": 2
   },
   "file_extension": ".py",
   "mimetype": "text/x-python",
   "name": "python",
   "nbconvert_exporter": "python",
   "pygments_lexer": "ipython2",
   "version": "2.7.11"
  }
 },
 "nbformat": 4,
 "nbformat_minor": 0
}
