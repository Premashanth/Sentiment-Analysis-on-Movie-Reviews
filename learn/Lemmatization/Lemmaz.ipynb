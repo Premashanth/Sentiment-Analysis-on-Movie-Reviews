{
 "cells": [
  {
   "cell_type": "code",
   "execution_count": 1,
   "metadata": {
    "collapsed": false
   },
   "outputs": [
    {
     "name": "stderr",
     "output_type": "stream",
     "text": [
      "/home/zhecan/anaconda2/lib/python2.7/site-packages/matplotlib/font_manager.py:273: UserWarning: Matplotlib is building the font cache using fc-list. This may take a moment.\n",
      "  warnings.warn('Matplotlib is building the font cache using fc-list. This may take a moment.')\n",
      "/home/zhecan/anaconda2/lib/python2.7/site-packages/matplotlib/__init__.py:872: UserWarning: axes.color_cycle is deprecated and replaced with axes.prop_cycle; please use the latter.\n",
      "  warnings.warn(self.msg_depr % (key, alt_key))\n"
     ]
    },
    {
     "data": {
      "text/plain": [
       "(156060, 4)"
      ]
     },
     "execution_count": 1,
     "metadata": {},
     "output_type": "execute_result"
    }
   ],
   "source": [
    "%matplotlib inline\n",
    "\n",
    "import pandas as pd\n",
    "import numpy as np\n",
    "import matplotlib.pyplot as plt\n",
    "import seaborn as sns\n",
    "from textblob import TextBlob\n",
    "\n",
    "\n",
    "# Load the data\n",
    "train = pd.read_csv('../../data/train.tsv', sep='\\t')\n",
    "test = pd.read_csv('../../data/test.tsv', sep='\\t')\n",
    "train.shape"
   ]
  },
  {
   "cell_type": "code",
   "execution_count": 2,
   "metadata": {
    "collapsed": true
   },
   "outputs": [],
   "source": [
    "def split_into_lemmas(message):\n",
    "    message = unicode(message, 'utf8').lower()\n",
    "    words = TextBlob(message).words\n",
    "    # for each word, take its \"base form\" = lemma \n",
    "    return [word.lemma for word in words]"
   ]
  },
  {
   "cell_type": "code",
   "execution_count": 3,
   "metadata": {
    "collapsed": false
   },
   "outputs": [
    {
     "name": "stdout",
     "output_type": "stream",
     "text": [
      "(156060, 13644)\n",
      "(156060, 14956)\n"
     ]
    }
   ],
   "source": [
    "from sklearn.feature_extraction.text import CountVectorizer\n",
    "\n",
    "lemma_phrase = []\n",
    "for phrase in train.Phrase:\n",
    "    lemma_phrase.append(' '.join(split_into_lemmas(phrase)))\n",
    "\n",
    "L = CountVectorizer(stop_words='english').fit_transform(lemma_phrase)\n",
    "# bow_transformer = CountVectorizer(stop_words='english', analyzer=split_into_lemmas)\n",
    "# L = bow_transformer.fit_transform(train.Phrase)\n",
    "print L.shape\n",
    "# print len(bow_transformer.vocabulary_)\n",
    "\n",
    "X = CountVectorizer(stop_words='english').fit_transform(train.Phrase)\n",
    "print X.shape\n",
    "\n",
    "# s = set()\n",
    "# for phrase in train.Phrase:\n",
    "#     lemmas = split_into_lemmas(phrase)\n",
    "#     s |= set(lemmas)\n",
    "    \n",
    "# print len(s)\n",
    "\n",
    "# s = set()\n",
    "# for phrase in train.Phrase:\n",
    "#     s |= set(phrase.lower().split())\n",
    "    \n",
    "# print len(s)\n",
    "\n",
    "# print train.Phrase[0]\n",
    "# print split_into_lemmas(train.Phrase[0])"
   ]
  },
  {
   "cell_type": "code",
   "execution_count": 4,
   "metadata": {
    "collapsed": false
   },
   "outputs": [
    {
     "name": "stdout",
     "output_type": "stream",
     "text": [
      "156060\n"
     ]
    }
   ],
   "source": [
    "print len(train.Phrase)"
   ]
  },
  {
   "cell_type": "code",
   "execution_count": 6,
   "metadata": {
    "collapsed": false
   },
   "outputs": [
    {
     "name": "stdout",
     "output_type": "stream",
     "text": [
      "trial number: 0\n",
      "trial number: 1\n",
      "trial number: 2\n",
      "trial number: 3\n",
      "trial number: 4\n",
      "trial number: 5\n",
      "trial number: 6\n",
      "trial number: 7\n",
      "trial number: 8\n",
      "trial number: 9\n",
      "trial number: 10\n",
      "trial number: 11\n",
      "trial number: 12\n",
      "trial number: 13\n",
      "trial number: 14\n",
      "trial number: 15\n",
      "trial number: 16\n",
      "trial number: 17\n",
      "trial number: 18\n",
      "trial number: 19\n"
     ]
    },
    {
     "data": {
      "image/png": "[encoded data removed]",
      "text/plain": [
       "<matplotlib.figure.Figure at 0x7fe5caccfd90>"
      ]
     },
     "metadata": {},
     "output_type": "display_data"
    }
   ],
   "source": [
    "from sklearn.ensemble import RandomForestClassifier\n",
    "from sklearn import cross_validation\n",
    "import sys\n",
    "\n",
    "\n",
    "\n",
    "def do_trial(X1, y1, X2, y2):\n",
    "    alg = RandomForestClassifier(n_estimators=50, max_depth = 3)\n",
    "    # change Shuffle to False to see how this affects the conclusions\n",
    "    cv = cross_validation.StratifiedKFold(y1, 3, shuffle=True)\n",
    "    \n",
    "    score1 = cross_validation.cross_val_score(alg, X1, y1, cv=cv)\n",
    "    score2 = cross_validation.cross_val_score(alg, X2, y2, cv=cv)\n",
    "    return score1.mean() - score2.mean()\n",
    "\n",
    "results = []\n",
    "n_trials = 20\n",
    "for i in range(n_trials):\n",
    "    print \"trial number: %d\" % i\n",
    "    sys.stdout.flush()\n",
    "    results.append(do_trial(X, train.Sentiment, L, train.Sentiment))\n",
    "    \n",
    "plt.hist(results, bins=20)\n",
    "plt.xlabel('Change in performance when using dummies')\n",
    "plt.ylabel('Frequency')\n",
    "plt.show()"
   ]
  },
  {
   "cell_type": "code",
   "execution_count": null,
   "metadata": {
    "collapsed": true
   },
   "outputs": [],
   "source": []
  }
 ],
 "metadata": {
  "kernelspec": {
   "display_name": "Python 2",
   "language": "python",
   "name": "python2"
  },
  "language_info": {
   "codemirror_mode": {
    "name": "ipython",
    "version": 2
   },
   "file_extension": ".py",
   "mimetype": "text/x-python",
   "name": "python",
   "nbconvert_exporter": "python",
   "pygments_lexer": "ipython2",
   "version": "2.7.11"
  }
 },
 "nbformat": 4,
 "nbformat_minor": 0
}
