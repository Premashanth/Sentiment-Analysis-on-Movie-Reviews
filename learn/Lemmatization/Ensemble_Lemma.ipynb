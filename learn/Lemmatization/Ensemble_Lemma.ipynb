{
 "cells": [
  {
   "cell_type": "markdown",
   "metadata": {},
   "source": [
    "# Lemmatization"
   ]
  },
  {
   "cell_type": "markdown",
   "metadata": {},
   "source": [
    "In this file, we are going to replace all the words in both review train and test data sets with their lemmatization words and save the editted version as new train and test data set files for other models to process later."
   ]
  },
  {
   "cell_type": "markdown",
   "metadata": {},
   "source": [
    "## Load Data"
   ]
  },
  {
   "cell_type": "code",
   "execution_count": null,
   "metadata": {
    "collapsed": true
   },
   "outputs": [],
   "source": [
    "%matplotlib inline\n",
    "\n",
    "import pandas as pd\n",
    "from pandas import DataFrame\n",
    "import numpy as np\n",
    "import matplotlib.pyplot as plt\n",
    "import seaborn as sns\n",
    "from textblob import TextBlob\n",
    "\n",
    "\n",
    "# Load the data\n",
    "train = pd.read_csv('../../data/train.tsv', sep='\\t')\n",
    "test = pd.read_csv('../../data/test.tsv', sep='\\t')\n",
    "train.shape"
   ]
  },
  {
   "cell_type": "markdown",
   "metadata": {},
   "source": [
    "## Preprocessing"
   ]
  },
  {
   "cell_type": "markdown",
   "metadata": {},
   "source": [
    "Go through each review to replace the words with their lemmatization words with the use of textblob library"
   ]
  },
  {
   "cell_type": "code",
   "execution_count": 5,
   "metadata": {
    "collapsed": true
   },
   "outputs": [],
   "source": [
    "def split_into_lemmas(message):\n",
    "    try:\n",
    "        output_message = unicode(message, 'utf8').lower()\n",
    "    except Exception as e:\n",
    "        print message\n",
    "        \n",
    "    words = TextBlob(output_message).words\n",
    "    # for each word, take its \"base form\" = lemma \n",
    "    return [word.lemma for word in words]"
   ]
  },
  {
   "cell_type": "markdown",
   "metadata": {},
   "source": [
    "Rejoin the words together back to string for each review and save them back to files for later processings of other models "
   ]
  },
  {
   "cell_type": "code",
   "execution_count": 6,
   "metadata": {
    "collapsed": false
   },
   "outputs": [],
   "source": [
    "\n",
    "train_lemma_phrase = []\n",
    "for phrase in train.Phrase:\n",
    "    train_lemma_phrase.append(' '.join(split_into_lemmas(phrase)))\n",
    "\n",
    "test_lemma_phrase = []\n",
    "for phrase in test.Phrase:\n",
    "    test_lemma_phrase.append(' '.join(split_into_lemmas(phrase)))\n",
    "    \n",
    "\n",
    "\n",
    "train_output = pd.DataFrame({\n",
    "    'PhraseId': train.PhraseId,\n",
    "    'Phrase':  train_lemma_phrase,\n",
    "    'Sentiment': train.Sentiment\n",
    "})\n",
    "\n",
    "\n",
    "\n",
    "test_output = pd.DataFrame({\n",
    "    'PhraseId': test.PhraseId,\n",
    "    'Phrase':  test_lemma_phrase\n",
    "})"
   ]
  },
  {
   "cell_type": "code",
   "execution_count": 9,
   "metadata": {
    "collapsed": false
   },
   "outputs": [
    {
     "name": "stdout",
     "output_type": "stream",
     "text": [
      "                                                  Phrase  PhraseId\n",
      "0      an intermittently pleasing but mostly routine ...    156061\n",
      "1      an intermittently pleasing but mostly routine ...    156062\n",
      "2                                                     an    156063\n",
      "3      intermittently pleasing but mostly routine effort    156064\n",
      "4             intermittently pleasing but mostly routine    156065\n",
      "5                            intermittently pleasing but    156066\n",
      "6                                intermittently pleasing    156067\n",
      "7                                         intermittently    156068\n",
      "8                                               pleasing    156069\n",
      "9                                                    but    156070\n",
      "10                                        mostly routine    156071\n",
      "11                                                mostly    156072\n",
      "12                                               routine    156073\n",
      "13                                                effort    156074\n",
      "14                                                          156075\n",
      "15     kidman is really the only thing that 's worth ...    156076\n",
      "16                                                kidman    156077\n",
      "17     is really the only thing that 's worth watchin...    156078\n",
      "18     is really the only thing that 's worth watchin...    156079\n",
      "19                                             is really    156080\n",
      "20                                                    is    156081\n",
      "21                                                really    156082\n",
      "22     the only thing that 's worth watching in birth...    156083\n",
      "23                                        the only thing    156084\n",
      "24                                                   the    156085\n",
      "25                                            only thing    156086\n",
      "26                                                  only    156087\n",
      "27                                                 thing    156088\n",
      "28     that 's worth watching in birthday girl a film...    156089\n",
      "29                                                  that    156090\n",
      "...                                                  ...       ...\n",
      "66262                                          organized    222323\n",
      "66263                                         efficiency    222324\n",
      "66264                                 numerous flashback    222325\n",
      "66265                         a constant edge of tension    222326\n",
      "66266                                    a constant edge    222327\n",
      "66267                                      constant edge    222328\n",
      "66268  miller 's film is one of 2002 's involvingly a...    222329\n",
      "66269  miller 's film is one of 2002 's involvingly a...    222330\n",
      "66270                                     miller 's film    222331\n",
      "66271       is one of 2002 's involvingly adult surprise    222332\n",
      "66272       is one of 2002 's involvingly adult surprise    222333\n",
      "66273          one of 2002 's involvingly adult surprise    222334\n",
      "66274              of 2002 's involvingly adult surprise    222335\n",
      "66275                 2002 's involvingly adult surprise    222336\n",
      "66276                                            2002 's    222337\n",
      "66277                         involvingly adult surprise    222338\n",
      "66278                                        involvingly    222339\n",
      "66279                                     adult surprise    222340\n",
      "66280              they should have called it gutterball    222341\n",
      "66281                   should have called it gutterball    222342\n",
      "66282                   should have called it gutterball    222343\n",
      "66283                          have called it gutterball    222344\n",
      "66284                               called it gutterball    222345\n",
      "66285                                      it gutterball    222346\n",
      "66286                                         gutterball    222347\n",
      "66287                 a long-winded predictable scenario    222348\n",
      "66288                 a long-winded predictable scenario    222349\n",
      "66289                                      a long-winded    222350\n",
      "66290                                      a long-winded    222351\n",
      "66291                               predictable scenario    222352\n",
      "\n",
      "[66292 rows x 2 columns]\n"
     ]
    }
   ],
   "source": [
    "print test_output.head(0)"
   ]
  },
  {
   "cell_type": "code",
   "execution_count": 8,
   "metadata": {
    "collapsed": false
   },
   "outputs": [],
   "source": [
    "train_output.to_csv(\"result_train.csv\", index = False, encoding='ascii')\n",
    "test_output.to_csv(\"result_test.csv\", index = False, encoding='ascii')\n",
    "\n",
    "# test = pd.read_csv('Lemma_Data', sep='\\t')\n",
    "# print test.head(10)\n"
   ]
  },
  {
   "cell_type": "code",
   "execution_count": null,
   "metadata": {
    "collapsed": true
   },
   "outputs": [],
   "source": []
  }
 ],
 "metadata": {
  "kernelspec": {
   "display_name": "Python 2",
   "language": "python",
   "name": "python2"
  },
  "language_info": {
   "codemirror_mode": {
    "name": "ipython",
    "version": 2
   },
   "file_extension": ".py",
   "mimetype": "text/x-python",
   "name": "python",
   "nbconvert_exporter": "python",
   "pygments_lexer": "ipython2",
   "version": "2.7.6"
  }
 },
 "nbformat": 4,
 "nbformat_minor": 0
}
