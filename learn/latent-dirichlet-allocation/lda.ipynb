{
 "cells": [
  {
   "cell_type": "markdown",
   "metadata": {},
   "source": [
    "# Bag of Words with LDA"
   ]
  },
  {
   "cell_type": "markdown",
   "metadata": {},
   "source": [
    "Latent Dirichlet Allocation (LDA) is a model that is able to group similar data together. This will reduce the dimensionality of our data by grouping similar words into one category. For example, the words **movie**, **film**, and **show** might be grouped into one topic called **MOVIE_related**. Putting synonyms into one feature instead of numerous greatly reduces the dimensionality of our data. Hopefully this will improve our learner's score."
   ]
  },
  {
   "cell_type": "code",
   "execution_count": 1,
   "metadata": {
    "collapsed": false
   },
   "outputs": [
    {
     "name": "stderr",
     "output_type": "stream",
     "text": [
      "/home/isaac/anaconda/lib/python2.7/site-packages/matplotlib/__init__.py:872: UserWarning: axes.color_cycle is deprecated and replaced with axes.prop_cycle; please use the latter.\n",
      "  warnings.warn(self.msg_depr % (key, alt_key))\n"
     ]
    },
    {
     "data": {
      "text/plain": [
       "(156060, 4)"
      ]
     },
     "execution_count": 1,
     "metadata": {},
     "output_type": "execute_result"
    }
   ],
   "source": [
    "%matplotlib inline\n",
    "\n",
    "import pandas as pd\n",
    "import numpy as np\n",
    "import matplotlib.pyplot as plt\n",
    "import seaborn as sns\n",
    "import time\n",
    "\n",
    "# Load the data\n",
    "train = pd.read_csv('../../data/train.tsv', sep='\\t')\n",
    "test = pd.read_csv('../../data/test.tsv', sep='\\t')\n",
    "train.shape"
   ]
  },
  {
   "cell_type": "markdown",
   "metadata": {},
   "source": [
    "## Count Vectorization\n",
    "\n",
    "Now that the data is loaded, we can vectorize it using the Count vectorizer. This will give us a matrix of word frequencies."
   ]
  },
  {
   "cell_type": "code",
   "execution_count": 2,
   "metadata": {
    "collapsed": false
   },
   "outputs": [
    {
     "name": "stdout",
     "output_type": "stream",
     "text": [
      "(500, 100)\n"
     ]
    }
   ],
   "source": [
    "from sklearn.feature_extraction.text import CountVectorizer\n",
    "\n",
    "subset = train[:500]\n",
    "\n",
    "# Create the vectorizer\n",
    "# We ignoring common english words and only look at a maximum of 500 unique words\n",
    "def vectorize(phrases):   \n",
    "    vectorizer = CountVectorizer(stop_words='english', min_df=2, max_df=0.95, max_features=100)\n",
    "    return vectorizer.fit_transform(phrases)\n",
    "\n",
    "X = vectorize(subset.Phrase)\n",
    "print X.shape"
   ]
  },
  {
   "cell_type": "markdown",
   "metadata": {},
   "source": [
    "## LDA Dimension Reduction\n",
    "\n",
    "Now we can put LDA to use and reduce dimensionality."
   ]
  },
  {
   "cell_type": "code",
   "execution_count": 3,
   "metadata": {
    "collapsed": false
   },
   "outputs": [],
   "source": [
    "from sklearn.decomposition import LatentDirichletAllocation\n",
    "\n",
    "def ldaify(X, y):\n",
    "    lda = LatentDirichletAllocation(n_topics=10)\n",
    "    return lda.fit_transform(X, y)\n",
    "\n",
    "L = ldaify(X, subset.Sentiment)"
   ]
  },
  {
   "cell_type": "markdown",
   "metadata": {},
   "source": [
    "## Learning\n",
    "\n",
    "Now that we've transformed our data into categories we can begin to learn. We will compute cross validation accuracy using Random Forest, AdaBoost, and SVC models."
   ]
  },
  {
   "cell_type": "code",
   "execution_count": 4,
   "metadata": {
    "collapsed": false
   },
   "outputs": [
    {
     "name": "stdout",
     "output_type": "stream",
     "text": [
      "Random Forest cross validation runnning...\n",
      "Random Forest Score: 0.49\n",
      "dt: 2.209551\n",
      "\n",
      "AdaBoost cross validation runnning...\n",
      "AdaBoost Score:      0.55\n",
      "dt: 0.222177\n",
      "\n",
      "SVC cross validation runnning...\n",
      "SVC Score:           0.59\n",
      "dt: 0.023728\n",
      "\n"
     ]
    }
   ],
   "source": [
    "def cv(X, y):\n",
    "    from sklearn.ensemble import RandomForestClassifier\n",
    "    from sklearn.ensemble import AdaBoostClassifier\n",
    "    from sklearn.svm import SVC\n",
    "\n",
    "    forest = RandomForestClassifier(n_estimators=500)\n",
    "    boost = AdaBoostClassifier()\n",
    "    svc = SVC()\n",
    "\n",
    "    from sklearn.cross_validation import cross_val_score\n",
    "    import time\n",
    "\n",
    "    t0 = time.time()\n",
    "    print \"Random Forest cross validation runnning...\"\n",
    "    forest_score = cross_val_score(forest, X, y).mean()\n",
    "    print \"Random Forest Score: %2.2f\" % forest_score\n",
    "    print \"dt: %f\" % (time.time() - t0)\n",
    "    print \"\"\n",
    "\n",
    "    t0 = time.time()\n",
    "    print \"AdaBoost cross validation runnning...\"\n",
    "    boost_score = cross_val_score(boost, X, y).mean()\n",
    "    print \"AdaBoost Score:      %2.2f\" % boost_score\n",
    "    print \"dt: %f\" % (time.time() - t0)\n",
    "    print \"\"\n",
    "\n",
    "    t0 = time.time()\n",
    "    print \"SVC cross validation runnning...\"\n",
    "    svc_score = cross_val_score(svc, X, y).mean()\n",
    "    print \"SVC Score:           %2.2f\" % svc_score\n",
    "    print \"dt: %f\" % (time.time() - t0)\n",
    "    print \"\"\n",
    "    \n",
    "cv(L, subset.Sentiment)"
   ]
  },
  {
   "cell_type": "code",
   "execution_count": 6,
   "metadata": {
    "collapsed": false
   },
   "outputs": [
    {
     "name": "stdout",
     "output_type": "stream",
     "text": [
      "vectorizing training data...\n",
      "\n",
      "running lda transform...\n",
      "\n",
      "training random forest...\n",
      "\n",
      "vectorizing test data...\n",
      "\n",
      "predicting...\n",
      "\n",
      "exporting...\n",
      "\n",
      "done\n"
     ]
    }
   ],
   "source": [
    "# Vectorize\n",
    "print \"vectorizing training data...\\n\"\n",
    "subset = train\n",
    "X = vectorize(subset.Phrase)\n",
    "\n",
    "# LDA\n",
    "print \"running lda transform...\\n\"\n",
    "lda = LatentDirichletAllocation(n_topics=10)\n",
    "L = lda.fit_transform(X, subset.Sentiment)\n",
    "\n",
    "# Fit\n",
    "print \"training random forest...\\n\"\n",
    "from sklearn.ensemble import RandomForestClassifier\n",
    "forest = RandomForestClassifier(n_estimators=500, max_depth=5)\n",
    "forest.fit(L, subset.Sentiment)\n",
    "\n",
    "# Vectorize test data\n",
    "print \"vectorizing test data...\\n\"\n",
    "subset = test\n",
    "X = vectorize(subset.Phrase)\n",
    "L = lda.transform(X)\n",
    "\n",
    "# Predict\n",
    "print \"predicting...\\n\"\n",
    "y = forest.predict(L)\n",
    "\n",
    "# Export results\n",
    "print \"exporting...\\n\"\n",
    "import pandas as pd\n",
    "df = pd.DataFrame({\n",
    "    'PhraseId': subset.PhraseId,\n",
    "    'Sentiment': y\n",
    "})\n",
    "\n",
    "df.to_csv('results.csv', index=False)\n",
    "print \"done\""
   ]
  },
  {
   "cell_type": "code",
   "execution_count": null,
   "metadata": {
    "collapsed": true
   },
   "outputs": [],
   "source": []
  }
 ],
 "metadata": {
  "kernelspec": {
   "display_name": "Python 2",
   "language": "python",
   "name": "python2"
  },
  "language_info": {
   "codemirror_mode": {
    "name": "ipython",
    "version": 2
   },
   "file_extension": ".py",
   "mimetype": "text/x-python",
   "name": "python",
   "nbconvert_exporter": "python",
   "pygments_lexer": "ipython2",
   "version": "2.7.11"
  }
 },
 "nbformat": 4,
 "nbformat_minor": 0
}
