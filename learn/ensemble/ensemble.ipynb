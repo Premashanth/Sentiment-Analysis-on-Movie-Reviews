{
 "cells": [
  {
   "cell_type": "code",
   "execution_count": 1,
   "metadata": {
    "collapsed": false
   },
   "outputs": [
    {
     "name": "stderr",
     "output_type": "stream",
     "text": [
      "/home/isaac/anaconda/lib/python2.7/site-packages/matplotlib/__init__.py:872: UserWarning: axes.color_cycle is deprecated and replaced with axes.prop_cycle; please use the latter.\n",
      "  warnings.warn(self.msg_depr % (key, alt_key))\n"
     ]
    }
   ],
   "source": [
    "%matplotlib inline\n",
    "\n",
    "import pandas as pd\n",
    "import numpy as np\n",
    "import matplotlib.pyplot as plt\n",
    "import seaborn as sns"
   ]
  },
  {
   "cell_type": "markdown",
   "metadata": {},
   "source": [
    "## Load all Model Predictions\n",
    "\n",
    "Here we'll load all of the predicted sentiments from each of our individual models. We can then input these predictions as features into a final learner. Hopefully our previous predictions have enough diversity to score well as a team."
   ]
  },
  {
   "cell_type": "code",
   "execution_count": 2,
   "metadata": {
    "collapsed": false
   },
   "outputs": [],
   "source": [
    "train = pd.read_csv('../../data/train.tsv', sep='\\t')\n",
    "test = pd.read_csv('../../data/test.tsv', sep='\\t')\n",
    "\n",
    "# lda_train = pd.read_csv('../latent-dirichlet-allocation/results_train.csv')\n",
    "# w2v_train = pd.read_csv('../word-2-vector/results_train.csv')\n",
    "sent_train = pd.read_csv('../sentiment/results_train.csv')\n",
    "# pos_train = pd.read_csv('../parts-of-speech/results_train.csv')\n",
    "\n",
    "X_train = pd.DataFrame({\n",
    "#     'lda': lda_train.Predicted\n",
    "#     'w2v': w2v_train.Predicted\n",
    "    'sent': sent_train.Predicted\n",
    "})\n",
    "y_train = train.Sentiment\n",
    "\n",
    "# lda_test = pd.read_csv('../latent-dirichlet-allocation/results_test.csv')\n",
    "# w2v_test = pd.read_csv('../word-2-vector/results_test.csv')\n",
    "sent_test = pd.read_csv('../sentiment/results_test.csv')\n",
    "# pos_test = pd.read_csv('../parts-of-speech/results_test.csv')\n",
    "\n",
    "X_test = pd.DataFrame({\n",
    "#     'lda': lda_test.Sentiment\n",
    "#     'w2v': w2v_test.Sentiment\n",
    "    'sent': sent_test.Sentiment\n",
    "})"
   ]
  },
  {
   "cell_type": "code",
   "execution_count": 9,
   "metadata": {
    "collapsed": false
   },
   "outputs": [
    {
     "name": "stdout",
     "output_type": "stream",
     "text": [
      "training logistic regression...\n",
      "predicting...\n",
      "done.\n"
     ]
    }
   ],
   "source": [
    "from sklearn.linear_model import LogisticRegression\n",
    "clf = LogisticRegression(solver='newton-cg', C=1, max_iter=1000)\n",
    "\n",
    "print \"training logistic regression...\"\n",
    "clf.fit(X_train, y_train)\n",
    "\n",
    "print \"predicting...\"\n",
    "y_pred = clf.predict(X_test)\n",
    "\n",
    "results = pd.DataFrame({\n",
    "    'PhraseId': test.PhraseId,\n",
    "    'Sentiment': y_pred\n",
    "})\n",
    "results.to_csv('results.csv', index=False)\n",
    "\n",
    "print 'done.'"
   ]
  },
  {
   "cell_type": "code",
   "execution_count": null,
   "metadata": {
    "collapsed": true
   },
   "outputs": [],
   "source": []
  }
 ],
 "metadata": {
  "kernelspec": {
   "display_name": "Python 2",
   "language": "python",
   "name": "python2"
  },
  "language_info": {
   "codemirror_mode": {
    "name": "ipython",
    "version": 2
   },
   "file_extension": ".py",
   "mimetype": "text/x-python",
   "name": "python",
   "nbconvert_exporter": "python",
   "pygments_lexer": "ipython2",
   "version": "2.7.11"
  }
 },
 "nbformat": 4,
 "nbformat_minor": 0
}
