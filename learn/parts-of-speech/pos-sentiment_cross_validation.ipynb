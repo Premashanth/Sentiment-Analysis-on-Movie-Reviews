{
 "cells": [
  {
   "cell_type": "code",
   "execution_count": 1,
   "metadata": {
    "collapsed": false
   },
   "outputs": [
    {
     "name": "stderr",
     "output_type": "stream",
     "text": [
      "/home/zhecan/anaconda2/lib/python2.7/site-packages/matplotlib/font_manager.py:273: UserWarning: Matplotlib is building the font cache using fc-list. This may take a moment.\n",
      "  warnings.warn('Matplotlib is building the font cache using fc-list. This may take a moment.')\n",
      "/home/zhecan/anaconda2/lib/python2.7/site-packages/matplotlib/__init__.py:872: UserWarning: axes.color_cycle is deprecated and replaced with axes.prop_cycle; please use the latter.\n",
      "  warnings.warn(self.msg_depr % (key, alt_key))\n"
     ]
    },
    {
     "data": {
      "text/plain": [
       "(156060, 4)"
      ]
     },
     "execution_count": 1,
     "metadata": {},
     "output_type": "execute_result"
    }
   ],
   "source": [
    "%matplotlib inline\n",
    "\n",
    "import pandas as pd\n",
    "import numpy as np\n",
    "import matplotlib.pyplot as plt\n",
    "import seaborn as sns\n",
    "\n",
    "\n",
    "train = pd.read_csv('../../data/train.tsv', sep='\\t')\n",
    "test = pd.read_csv('../../data/test.tsv', sep='\\t')\n",
    "amount = len(train)\n",
    "\n",
    "train.shape"
   ]
  },
  {
   "cell_type": "code",
   "execution_count": 100,
   "metadata": {
    "collapsed": false
   },
   "outputs": [
    {
     "name": "stdout",
     "output_type": "stream",
     "text": [
      "(156060, 1000)\n"
     ]
    }
   ],
   "source": [
    "from sklearn.feature_extraction.text import CountVectorizer\n",
    "\n",
    "v1 = CountVectorizer(stop_words='english', min_df=2, max_df=0.95, max_features=1000)\n",
    "X1 = v1.fit_transform(train.Phrase)\n",
    "print X1.shape"
   ]
  },
  {
   "cell_type": "code",
   "execution_count": 101,
   "metadata": {
    "collapsed": false
   },
   "outputs": [
    {
     "name": "stdout",
     "output_type": "stream",
     "text": [
      "0\n",
      "10\n",
      "20\n",
      "30\n",
      "40\n",
      "50\n",
      "60\n",
      "70\n",
      "80\n",
      "90\n",
      "100\n",
      "110\n",
      "120\n",
      "130\n",
      "140\n",
      "150\n",
      "160\n",
      "170\n",
      "180\n",
      "190\n",
      "200\n",
      "210\n",
      "220\n",
      "230\n",
      "240\n",
      "250\n",
      "260\n",
      "270\n",
      "280\n",
      "290\n",
      "300\n",
      "310\n",
      "320\n",
      "330\n",
      "340\n",
      "350\n",
      "360\n",
      "370\n",
      "380\n",
      "390\n",
      "400\n",
      "410\n",
      "420\n",
      "430\n",
      "440\n",
      "450\n",
      "460\n",
      "470\n",
      "480\n",
      "490\n",
      "500\n"
     ]
    }
   ],
   "source": [
    "from textblob import TextBlob\n",
    "def extract_verbs_and_adj(phrase):\n",
    "    words = []\n",
    "    \n",
    "    tags = TextBlob(phrase).tags\n",
    "    for tag in tags:\n",
    "        if tag[1][:2] == \"VB\" or tag[1][:2] == \"JJ\":\n",
    "            words.append(tag[0])\n",
    "    return words\n",
    "\n",
    "phrases_vb_adj = []\n",
    "for (index, phrase) in enumerate(train.Phrase[:amount]):\n",
    "    if index % 10 == 0:\n",
    "        print index\n",
    "    phrases_vb_adj.append(' '.join(extract_verbs_and_adj(phrase)))\n",
    "    \n",
    "print len(phrases_vb_adj)"
   ]
  },
  {
   "cell_type": "code",
   "execution_count": 108,
   "metadata": {
    "collapsed": false
   },
   "outputs": [
    {
     "name": "stdout",
     "output_type": "stream",
     "text": [
      "(500, 110)\n"
     ]
    }
   ],
   "source": [
    "v2 = CountVectorizer(ngram_range=(1, 2),  min_df=2, max_df=0.95, max_features=1000)\n",
    "X2 = v2.fit_transform(phrases_vb_adj)\n",
    "print X2.shape"
   ]
  },
  {
   "cell_type": "code",
   "execution_count": 109,
   "metadata": {
    "collapsed": false
   },
   "outputs": [
    {
     "name": "stdout",
     "output_type": "stream",
     "text": [
      "[u'absolute', u'aggressive', u'aggressive manipulative', u'amuses', u'amuses much', u'are', u'are absolute', u'arts', u'arts proves', u'be', u'be damned', u'be martial', u'be mythic', u'being', u'bilingual', u'cliched', u'cliched perverse', u'damned', u'demonstrating', u'demonstrating is', u'distort', u'distort throw', u'does', u'does leave', u'entertaining', u'entertaining independent', u'epic', u'extravagant', u'extravagant distort', u'good', u'good amuses', u'gorgeous', u'hard', u'hard be', u'hard sitting', u'has', u'has serious', u'hate', u'hate same', u'have', u'have hard', u'high', u'independent', u'inspired', u'introspective', u'introspective entertaining', u'is', u'is be', u'is good', u'is plodding', u'is sweet', u'is worth', u'leave', u'leave much', u'little', u'little recommend', u'manipulative', u'martial', u'martial arts', u'midlife', u'modest', u'modest winning', u'much', u'mythic', u'perverse', u'perverse high', u'plays', u'plodding', u'proves', u'proves sometimes', u'quiet', u'quiet introspective', u'recommend', u'recommend cliched', u'remain', u'rooted', u'rooted sincere', u'same', u'say', u'say extravagant', u'seeking', u'serious', u'serious say', u'shakespearean', u'sincere', u'sincere undergoing', u'sitting', u'sometimes', u'sometimes remain', u'suspect', u'suspect have', u'sweet', u'sweet modest', u'thick', u'thick plays', u'thrilling', u'thrilling shakespearean', u'throw', u'throw good', u'trouble', u'trouble is', u'try', u'try hard', u'undergoing', u'undergoing midlife', u'welcome', u'welcome try', u'winning', u'worth', u'worth seeking']\n",
      "[0.18000000000000002, 0.0, 0.0, 0.0, 0.04000000000000001, 0.0, 0.18000000000000002, 0.0, 0.0, 0.0, 0.0, 0.0, 0.0, 0.0, 0.0, 0.0, 0.0, 0.0, 0.0, 0.0, 0.0, 0.0, 0.0, 0.0, 0.35, 0.103125, 0.04000000000000001, 0.0, 0.0, 0.42000000000000004, 0.42000000000000004, 0.63, -0.1579861111111111, -0.1579861111111111, -0.1579861111111111, 0.0, -0.2222222222222222, -0.7200000000000001, -0.205, 0.0, -0.1579861111111111, 0.08639999999999999, 0.0, 0.0, 0.0, 0.35, 0.0, 0.0, 0.42000000000000004, -0.18, 0.22749999999999998, 0.03, 0.0, 0.04000000000000001, -0.09375, -0.09375, 0.0, 0.0, 0.0, 0.0, 0.09000000000000001, 0.24749999999999997, 0.04000000000000001, 0.0, 0.0, 0.08639999999999999, 0.0, -0.18, 0.0, 0.0, 0.0, 0.0, 0.0, 0.0, 0.0, 0.0, 0.25, 0.0, 0.0, 0.0, 0.0, -0.2222222222222222, -0.2222222222222222, 0.0, 0.25, 0.25, 0.0, 0.0, 0.0, 0.0, 0.0, 0.22749999999999998, 0.17437499999999997, -0.14250000000000002, -0.14250000000000002, 0.25, 0.25, 0.0, 0.42000000000000004, -0.04000000000000001, -0.04000000000000001, 0.0, -0.1579861111111111, 0.0, 0.0, 0.7200000000000001, 0.7200000000000001, 0.375, 0.03, 0.03]\n"
     ]
    }
   ],
   "source": [
    "sentiments = []\n",
    "for feature in v2.get_feature_names():\n",
    "    sentiment = TextBlob(feature).sentiment\n",
    "    value = sentiment.polarity * sentiment.subjectivity\n",
    "    sentiments.append(value)\n",
    "    \n",
    "print v2.get_feature_names()\n",
    "print sentiments"
   ]
  },
  {
   "cell_type": "code",
   "execution_count": 110,
   "metadata": {
    "collapsed": false
   },
   "outputs": [],
   "source": [
    "from scipy.sparse import csr_matrix\n",
    "\n",
    "X3 = csr_matrix(X2.shape)\n",
    "for index in range(X2.shape[0]):\n",
    "    row = X2[index]\n",
    "    for col in range(row.shape[1]):\n",
    "        X3[index, col] = X2[index, col] * sentiments[col]"
   ]
  },
  {
   "cell_type": "code",
   "execution_count": 111,
   "metadata": {
    "collapsed": false
   },
   "outputs": [
    {
     "name": "stdout",
     "output_type": "stream",
     "text": [
      "(500, 1110)\n"
     ]
    }
   ],
   "source": [
    "from scipy.sparse import hstack\n",
    "X4 = hstack([X1[:amount], X3])\n",
    "print X4.shape"
   ]
  },
  {
   "cell_type": "code",
   "execution_count": 114,
   "metadata": {
    "collapsed": false
   },
   "outputs": [
    {
     "name": "stdout",
     "output_type": "stream",
     "text": [
      "trial number: 0\n",
      "trial number: 1\n",
      "trial number: 2\n",
      "trial number: 3\n",
      "trial number: 4\n",
      "trial number: 5\n",
      "trial number: 6\n",
      "trial number: 7\n",
      "trial number: 8\n",
      "trial number: 9\n",
      "trial number: 10\n",
      "trial number: 11\n",
      "trial number: 12\n",
      "trial number: 13\n",
      "trial number: 14\n",
      "trial number: 15\n",
      "trial number: 16\n",
      "trial number: 17\n",
      "trial number: 18\n",
      "trial number: 19\n"
     ]
    },
    {
     "data": {
      "image/png": "[encoded data removed]",
      "text/plain": [
       "<matplotlib.figure.Figure at 0x7f024b87a2d0>"
      ]
     },
     "metadata": {},
     "output_type": "display_data"
    }
   ],
   "source": [
    "from sklearn.ensemble import RandomForestClassifier\n",
    "from sklearn import cross_validation\n",
    "import sys\n",
    "\n",
    "def do_trial(X1, X2, y):\n",
    "    alg = RandomForestClassifier(n_estimators=50, max_depth = 3)\n",
    "    # change Shuffle to False to see how this affects the conclusions\n",
    "    cv = cross_validation.StratifiedKFold(y, 3, shuffle=True)\n",
    "    \n",
    "    score1 = cross_validation.cross_val_score(alg, X1, y, cv=cv)\n",
    "    score2 = cross_validation.cross_val_score(alg, X2, y, cv=cv)\n",
    "    return score1.mean() - score2.mean()\n",
    "\n",
    "results = []\n",
    "n_trials = 20\n",
    "for i in range(n_trials):\n",
    "    print \"trial number: %d\" % i\n",
    "    sys.stdout.flush()\n",
    "    results.append(do_trial(X4, X3, train.Sentiment[:amount]))\n",
    "    \n",
    "plt.hist(results, bins=20)\n",
    "plt.xlabel('Change in performance')\n",
    "plt.ylabel('Frequency')\n",
    "plt.show()"
   ]
  },
  {
   "cell_type": "code",
   "execution_count": null,
   "metadata": {
    "collapsed": true
   },
   "outputs": [],
   "source": []
  }
 ],
 "metadata": {
  "kernelspec": {
   "display_name": "Python 2",
   "language": "python",
   "name": "python2"
  },
  "language_info": {
   "codemirror_mode": {
    "name": "ipython",
    "version": 2
   },
   "file_extension": ".py",
   "mimetype": "text/x-python",
   "name": "python",
   "nbconvert_exporter": "python",
   "pygments_lexer": "ipython2",
   "version": "2.7.11"
  }
 },
 "nbformat": 4,
 "nbformat_minor": 0
}
