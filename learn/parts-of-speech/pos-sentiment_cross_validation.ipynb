{
 "cells": [
  {
   "cell_type": "code",
   "execution_count": 10,
   "metadata": {
    "collapsed": false
   },
   "outputs": [
    {
     "data": {
      "text/plain": [
       "(156060, 4)"
      ]
     },
     "execution_count": 10,
     "metadata": {},
     "output_type": "execute_result"
    }
   ],
   "source": [
    "%matplotlib inline\n",
    "\n",
    "import pandas as pd\n",
    "import numpy as np\n",
    "import matplotlib.pyplot as plt\n",
    "import seaborn as sns\n",
    "\n",
    "\n",
    "train = pd.read_csv('../../data/train.tsv', sep='\\t')\n",
    "test = pd.read_csv('../../data/test.tsv', sep='\\t')\n",
    "amount = 1000\n",
    "\n",
    "train.shape"
   ]
  },
  {
   "cell_type": "code",
   "execution_count": 11,
   "metadata": {
    "collapsed": false
   },
   "outputs": [
    {
     "name": "stdout",
     "output_type": "stream",
     "text": [
      "(156060, 1000)\n"
     ]
    }
   ],
   "source": [
    "from sklearn.feature_extraction.text import CountVectorizer\n",
    "\n",
    "v1 = CountVectorizer(stop_words='english', min_df=2, max_df=0.95, max_features=1000)\n",
    "X1 = v1.fit_transform(train.Phrase)\n",
    "print X1.shape"
   ]
  },
  {
   "cell_type": "code",
   "execution_count": 12,
   "metadata": {
    "collapsed": false
   },
   "outputs": [
    {
     "name": "stdout",
     "output_type": "stream",
     "text": [
      "0\n",
      "10\n",
      "20\n",
      "30\n",
      "40\n",
      "50\n",
      "60\n",
      "70\n",
      "80\n",
      "90\n",
      "100\n",
      "110\n",
      "120\n",
      "130\n",
      "140\n",
      "150\n",
      "160\n",
      "170\n",
      "180\n",
      "190\n",
      "200\n",
      "210\n",
      "220\n",
      "230\n",
      "240\n",
      "250\n",
      "260\n",
      "270\n",
      "280\n",
      "290\n",
      "300\n",
      "310\n",
      "320\n",
      "330\n",
      "340\n",
      "350\n",
      "360\n",
      "370\n",
      "380\n",
      "390\n",
      "400\n",
      "410\n",
      "420\n",
      "430\n",
      "440\n",
      "450\n",
      "460\n",
      "470\n",
      "480\n",
      "490\n",
      "500\n",
      "510\n",
      "520\n",
      "530\n",
      "540\n",
      "550\n",
      "560\n",
      "570\n",
      "580\n",
      "590\n",
      "600\n",
      "610\n",
      "620\n",
      "630\n",
      "640\n",
      "650\n",
      "660\n",
      "670\n",
      "680\n",
      "690\n",
      "700\n",
      "710\n",
      "720\n",
      "730\n",
      "740\n",
      "750\n",
      "760\n",
      "770\n",
      "780\n",
      "790\n",
      "800\n",
      "810\n",
      "820\n",
      "830\n",
      "840\n",
      "850\n",
      "860\n",
      "870\n",
      "880\n",
      "890\n",
      "900\n",
      "910\n",
      "920\n",
      "930\n",
      "940\n",
      "950\n",
      "960\n",
      "970\n",
      "980\n",
      "990\n",
      "1000\n"
     ]
    }
   ],
   "source": [
    "from textblob import TextBlob\n",
    "def extract_verbs_and_adj(phrase):\n",
    "    words = []\n",
    "    \n",
    "    tags = TextBlob(phrase).tags\n",
    "    for tag in tags:\n",
    "        if tag[1][:2] == \"VB\" or tag[1][:2] == \"JJ\":\n",
    "            words.append(tag[0])\n",
    "    return words\n",
    "\n",
    "phrases_vb_adj = []\n",
    "for (index, phrase) in enumerate(train.Phrase[:amount]):\n",
    "    if index % 10 == 0:\n",
    "        print index\n",
    "    phrases_vb_adj.append(' '.join(extract_verbs_and_adj(phrase)))\n",
    "    \n",
    "print len(phrases_vb_adj)"
   ]
  },
  {
   "cell_type": "code",
   "execution_count": 13,
   "metadata": {
    "collapsed": false
   },
   "outputs": [
    {
     "name": "stdout",
     "output_type": "stream",
     "text": [
      "(1000, 229)\n"
     ]
    }
   ],
   "source": [
    "v2 = CountVectorizer(ngram_range=(1, 2),  min_df=2, max_df=0.95, max_features=1000)\n",
    "X2 = v2.fit_transform(phrases_vb_adj)\n",
    "print X2.shape"
   ]
  },
  {
   "cell_type": "code",
   "execution_count": 14,
   "metadata": {
    "collapsed": false
   },
   "outputs": [
    {
     "name": "stdout",
     "output_type": "stream",
     "text": [
      "[u'absolute', u'aggressive', u'aggressive manipulative', u'aims', u'aims ends', u'amuses', u'amuses much', u'appropriate', u'are', u'are absolute', u'arts', u'arts proves', u'avoid', u'be', u'be damned', u'be martial', u'be mythic', u'becomes', u'becomes offering', u'being', u'big', u'big screen', u'bilingual', u'cliched', u'cliched perverse', u'computer', u'computer generated', u'considerable', u'constructed', u'constructed narrative', u'converted', u'damned', u'defend', u'defend frothing', u'demonstrating', u'demonstrating is', u'different', u'distort', u'distort throw', u'does', u'does give', u'does leave', u'early', u'ends', u'ends sounding', u'entertaining', u'entertaining independent', u'epic', u'exists', u'exists political', u'expect', u'expect more', u'extravagant', u'extravagant distort', u'feel', u'feel other', u'finish', u'first', u'first computer', u'first different', u'followed', u'followed runaway', u'frothing', u'generated', u'generated feel', u'give', u'give be', u'glacial', u'glacial pacing', u'going', u'going serve', u'going watching', u'good', u'good amuses', u'good serious', u'gorgeous', u'grenade', u'hard', u'hard be', u'hard sitting', u'has', u'has serious', u'hate', u'hate same', u'have', u'have followed', u'have hard', u'high', u'impeccable', u'impeccable indecipherable', u'indecipherable', u'independent', u'indulgent', u'indulgent aims', u'inept', u'inept big', u'inoffensive', u'inoffensive sweet', u'inspired', u'introspective', u'introspective entertaining', u'is', u'is be', u'is first', u'is good', u'is plodding', u'is romantic', u'is sweet', u'is worth', u'latest', u'leave', u'leave much', u'little', u'little going', u'little recommend', u'make', u'make oddest', u'makes', u'makes glacial', u'manipulative', u'martial', u'martial arts', u'means', u'midlife', u'mill', u'minded', u'minded is', u'modest', u'modest winning', u'more', u'much', u'mythic', u'narrative', u'narrative inoffensive', u'occasional', u'oddest', u'oddest becomes', u'of', u'of the', u'offering', u'offering exists', u'offers', u'offers occasional', u'other', u'other makes', u'pacing', u'pacing early', u'paralyzed', u'paralyzed self', u'perverse', u'perverse high', u'plays', u'plodding', u'political', u'proves', u'proves sometimes', u'quiet', u'quiet introspective', u're', u're unnamed', u'recommend', u'recommend cliched', u'remain', u'romantic', u'romantic finish', u'rooted', u'rooted sincere', u'run', u'run of', u'runaway', u'runaway first', u'same', u'say', u'say extravagant', u'screen', u'seeking', u'self', u'self indulgent', u'serious', u'serious minded', u'serious say', u'serve', u'serve considerable', u'serve try', u'setting', u'shakespearean', u'show', u'show well', u'sincere', u'sincere undergoing', u'sitting', u'sometimes', u'sometimes remain', u'sounding', u'substitutable', u'substitutable serve', u'suspect', u'suspect have', u'sweet', u'sweet modest', u'the', u'the mill', u'thick', u'thick plays', u'thrilling', u'thrilling shakespearean', u'throw', u'throw good', u'trouble', u'trouble is', u'try', u'try avoid', u'try hard', u'undergoing', u'undergoing midlife', u'unnamed', u'unnamed substitutable', u'vapid', u'vapid appropriate', u'watching', u'watching defend', u'welcome', u'welcome try', u'well', u'well constructed', u'wild', u'winning', u'worth', u'worth seeking']\n",
      "[0.18000000000000002, 0.0, 0.0, 0.0, 0.0, 0.0, 0.04000000000000001, 0.25, 0.0, 0.18000000000000002, 0.0, 0.0, 0.0, 0.0, 0.0, 0.0, 0.0, 0.0, 0.0, 0.0, 0.0, 0.0, 0.0, 0.0, 0.0, 0.0, 0.0, 0.045000000000000005, 0.0, 0.0, 0.0, 0.0, 0.0, 0.0, 0.0, 0.0, 0.0, 0.0, 0.0, 0.0, 0.0, 0.0, 0.03, 0.0, 0.0, 0.35, 0.103125, 0.04000000000000001, 0.0, 0.0, 0.0, 0.25, 0.0, 0.0, 0.0, -0.046875, 0.0, 0.08333333333333333, 0.08333333333333333, 0.058333333333333334, 0.0, 0.0, 0.0, 0.0, 0.0, 0.0, 0.0, 0.0, 0.0, 0.0, 0.0, 0.0, 0.42000000000000004, 0.42000000000000004, 0.1161111111111111, 0.63, 0.0, -0.1579861111111111, -0.1579861111111111, -0.1579861111111111, 0.0, -0.2222222222222222, -0.7200000000000001, -0.205, 0.0, 0.0, -0.1579861111111111, 0.08639999999999999, 0.5625, 0.07499999999999998, -0.41250000000000003, 0.0, 0.0, 0.0, 0.0, 0.0, 0.0, 0.22749999999999998, 0.0, 0.0, 0.35, 0.0, 0.0, 0.08333333333333333, 0.42000000000000004, -0.18, 0.0, 0.22749999999999998, 0.03, 0.45, 0.0, 0.04000000000000001, -0.09375, -0.09375, -0.09375, 0.0, 0.0, 0.0, 0.0, 0.0, 0.0, 0.0, 0.0, 0.0, 0.0, 0.0, 0.0, 0.09000000000000001, 0.24749999999999997, 0.25, 0.04000000000000001, 0.0, 0.0, 0.0, 0.0, 0.0, 0.0, 0.0, 0.0, 0.0, 0.0, 0.0, 0.003125, -0.046875, -0.046875, 0.0, 0.03, 0.0, 0.0, 0.0, 0.08639999999999999, 0.0, -0.18, 0.0, 0.0, 0.0, 0.0, 0.0, 0.0, 0.0, 0.0, 0.0, 0.0, 0.0, 0.0, 0.0, 0.25, 0.0, 0.0, 0.0, 0.08333333333333333, 0.0, 0.0, 0.0, 0.0, 0.0, 0.0, 0.0, -0.2222222222222222, -0.2222222222222222, -0.2222222222222222, 0.0, 0.045000000000000005, 0.0, 0.0, 0.0, 0.0, 0.0, 0.25, 0.25, 0.0, 0.0, 0.0, 0.0, 0.0, 0.0, 0.0, 0.0, 0.22749999999999998, 0.17437499999999997, 0.0, 0.0, -0.14250000000000002, -0.14250000000000002, 0.25, 0.25, 0.0, 0.42000000000000004, -0.04000000000000001, -0.04000000000000001, 0.0, 0.0, -0.1579861111111111, 0.0, 0.0, 0.0, 0.0, -0.09, 0.04000000000000001, 0.0, 0.0, 0.7200000000000001, 0.7200000000000001, 0.0, 0.0, 0.04000000000000001, 0.375, 0.03, 0.03]\n"
     ]
    }
   ],
   "source": [
    "sentiments = []\n",
    "for feature in v2.get_feature_names():\n",
    "    sentiment = TextBlob(feature).sentiment\n",
    "    value = sentiment.polarity * sentiment.subjectivity\n",
    "    sentiments.append(value)\n",
    "    \n",
    "print v2.get_feature_names()\n",
    "print sentiments"
   ]
  },
  {
   "cell_type": "code",
   "execution_count": 15,
   "metadata": {
    "collapsed": false
   },
   "outputs": [],
   "source": [
    "from scipy.sparse import csr_matrix\n",
    "\n",
    "X3 = csr_matrix(X2.shape)\n",
    "for index in range(X2.shape[0]):\n",
    "    row = X2[index]\n",
    "    for col in range(row.shape[1]):\n",
    "        X3[index, col] = X2[index, col] * sentiments[col]"
   ]
  },
  {
   "cell_type": "code",
   "execution_count": 16,
   "metadata": {
    "collapsed": false
   },
   "outputs": [
    {
     "name": "stdout",
     "output_type": "stream",
     "text": [
      "(1000, 1229)\n"
     ]
    }
   ],
   "source": [
    "from scipy.sparse import hstack\n",
    "X4 = hstack([X1[:amount], X3])\n",
    "print X4.shape"
   ]
  },
  {
   "cell_type": "code",
   "execution_count": 17,
   "metadata": {
    "collapsed": false
   },
   "outputs": [
    {
     "name": "stdout",
     "output_type": "stream",
     "text": [
      "trial number: 0\n",
      "trial number: 1\n",
      "trial number: 2\n",
      "trial number: 3\n",
      "trial number: 4\n",
      "trial number: 5\n",
      "trial number: 6\n",
      "trial number: 7\n",
      "trial number: 8\n",
      "trial number: 9\n",
      "trial number: 10\n",
      "trial number: 11\n",
      "trial number: 12\n",
      "trial number: 13\n",
      "trial number: 14\n",
      "trial number: 15\n",
      "trial number: 16\n",
      "trial number: 17\n",
      "trial number: 18\n",
      "trial number: 19\n"
     ]
    },
    {
     "data": {
      "image/png": "[encoded data removed]",
      "text/plain": [
       "<matplotlib.figure.Figure at 0x7f64f6c03f90>"
      ]
     },
     "metadata": {},
     "output_type": "display_data"
    }
   ],
   "source": [
    "from sklearn.ensemble import RandomForestClassifier\n",
    "from sklearn import cross_validation\n",
    "import sys\n",
    "\n",
    "def do_trial(X1, X2, y):\n",
    "    alg = RandomForestClassifier(n_estimators=50, max_depth = 3)\n",
    "    # change Shuffle to False to see how this affects the conclusions\n",
    "    cv = cross_validation.StratifiedKFold(y, 3, shuffle=True)\n",
    "    \n",
    "    score1 = cross_validation.cross_val_score(alg, X1, y, cv=cv)\n",
    "    score2 = cross_validation.cross_val_score(alg, X2, y, cv=cv)\n",
    "    return score1.mean() - score2.mean()\n",
    "\n",
    "results = []\n",
    "n_trials = 20\n",
    "for i in range(n_trials):\n",
    "    print \"trial number: %d\" % i\n",
    "    sys.stdout.flush()\n",
    "    results.append(do_trial(X3, X4, train.Sentiment[:amount]))\n",
    "    \n",
    "plt.hist(results, bins=20)\n",
    "plt.xlabel('Change in performance')\n",
    "plt.ylabel('Frequency')\n",
    "plt.show()"
   ]
  },
  {
   "cell_type": "code",
   "execution_count": null,
   "metadata": {
    "collapsed": true
   },
   "outputs": [],
   "source": []
  }
 ],
 "metadata": {
  "kernelspec": {
   "display_name": "Python 2",
   "language": "python",
   "name": "python2"
  },
  "language_info": {
   "codemirror_mode": {
    "name": "ipython",
    "version": 2
   },
   "file_extension": ".py",
   "mimetype": "text/x-python",
   "name": "python",
   "nbconvert_exporter": "python",
   "pygments_lexer": "ipython2",
   "version": "2.7.6"
  }
 },
 "nbformat": 4,
 "nbformat_minor": 0
}
