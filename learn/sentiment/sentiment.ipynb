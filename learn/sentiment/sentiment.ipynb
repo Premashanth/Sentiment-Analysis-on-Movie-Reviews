{
 "cells": [
  {
   "cell_type": "markdown",
   "metadata": {},
   "source": [
    "# Sentiment using TextBlob\n",
    "\n",
    "This model will simply use TextBlob to determine the sentiment of a phrase."
   ]
  },
  {
   "cell_type": "code",
   "execution_count": 11,
   "metadata": {
    "collapsed": false
   },
   "outputs": [],
   "source": [
    "%matplotlib inline\n",
    "\n",
    "import pandas as pd\n",
    "import numpy as np\n",
    "import matplotlib.pyplot as plt\n",
    "import seaborn as sns\n",
    "\n",
    "# Load the data\n",
    "train = pd.read_csv('../../data/train.tsv', sep='\\t')\n",
    "test = pd.read_csv('../../data/test.tsv', sep='\\t')"
   ]
  },
  {
   "cell_type": "markdown",
   "metadata": {},
   "source": [
    "## Calculate Sentiments\n",
    "\n",
    "We'll calculate sentiments using various libraries."
   ]
  },
  {
   "cell_type": "code",
   "execution_count": 12,
   "metadata": {
    "collapsed": false
   },
   "outputs": [],
   "source": [
    "from textblob import TextBlob\n",
    "\n",
    "def text_blob_sentiment(phrase):\n",
    "    return TextBlob(phrase).sentiment.polarity\n",
    "\n",
    "def get_text_blob_sentiments(phrases):\n",
    "    sentiments = map(text_blob_sentiment, phrases)\n",
    "    return pd.DataFrame({'sentiment': sentiments})\n",
    "\n",
    "# X = get_text_blob_sentiments(train.Phrase)"
   ]
  },
  {
   "cell_type": "code",
   "execution_count": null,
   "metadata": {
    "collapsed": false
   },
   "outputs": [],
   "source": [
    "# def cv(X, y):\n",
    "#     from sklearn.ensemble import RandomForestClassifier\n",
    "#     from sklearn.ensemble import AdaBoostClassifier\n",
    "#     from sklearn.svm import SVC\n",
    "\n",
    "#     forest = RandomForestClassifier(n_estimators=500)\n",
    "#     boost = AdaBoostClassifier()\n",
    "#     svc = SVC()\n",
    "\n",
    "#     from sklearn.cross_validation import cross_val_score\n",
    "#     import time\n",
    "\n",
    "#     t0 = time.time()\n",
    "#     print \"Random Forest cross validation runnning...\"\n",
    "#     forest_score = cross_val_score(forest, X, y).mean()\n",
    "#     print \"Random Forest Score: %2.2f\" % forest_score\n",
    "#     print \"dt: %f\" % (time.time() - t0)\n",
    "#     print \"\"\n",
    "\n",
    "#     t0 = time.time()\n",
    "#     print \"AdaBoost cross validation runnning...\"\n",
    "#     boost_score = cross_val_score(boost, X, y).mean()\n",
    "#     print \"AdaBoost Score:      %2.2f\" % boost_score\n",
    "#     print \"dt: %f\" % (time.time() - t0)\n",
    "#     print \"\"\n",
    "\n",
    "#     t0 = time.time()\n",
    "#     print \"SVC cross validation runnning...\"\n",
    "#     svc_score = cross_val_score(svc, X, y).mean()\n",
    "#     print \"SVC Score:           %2.2f\" % svc_score\n",
    "#     print \"dt: %f\" % (time.time() - t0)\n",
    "#     print \"\"\n",
    "    \n",
    "# cv(X[:1000], train.Sentiment[:1000])"
   ]
  },
  {
   "cell_type": "markdown",
   "metadata": {},
   "source": [
    "## Learn with SVC"
   ]
  },
  {
   "cell_type": "code",
   "execution_count": null,
   "metadata": {
    "collapsed": false
   },
   "outputs": [],
   "source": [
    "from sklearn.cross_validation import train_test_split\n",
    "train, cv = train_test_split(train, test_size=0.3)\n",
    "\n",
    "from sklearn.svm import SVC\n",
    "svc = SVC()\n",
    "\n",
    "print \"training SVC...\"\n",
    "X_train_sent = get_text_blob_sentiments(train.Phrase)\n",
    "svc.fit(X_train_sent, train.Sentiment)\n",
    "\n",
    "# Predict using cross validation data\n",
    "X_cv_sent = get_text_blob_sentiments(cv.Phrase)\n",
    "cv_pred = svc.predict(X_cv_sent)\n",
    "results_cv = pd.DataFrame({\n",
    "    'PhraseId': cv.PhraseId,\n",
    "    'Predicted': cv_pred,\n",
    "    'Sentiment': cv.Sentiment\n",
    "})\n",
    "results_cv.to_csv('results_train.csv', index=False)\n",
    "\n",
    "print \"predicting...\"\n",
    "X_test = get_text_blob_sentiments(test.Phrase)\n",
    "y_pred = svc.predict(X_test)\n",
    "\n",
    "results_test = pd.DataFrame({\n",
    "    'PhraseId': test.PhraseId,\n",
    "    'Sentiment': y_pred\n",
    "})\n",
    "\n",
    "results_test.to_csv('results_test.csv', index=False)\n",
    "print \"done.\""
   ]
  },
  {
   "cell_type": "code",
   "execution_count": null,
   "metadata": {
    "collapsed": true
   },
   "outputs": [],
   "source": []
  }
 ],
 "metadata": {
  "kernelspec": {
   "display_name": "Python 2",
   "language": "python",
   "name": "python2"
  },
  "language_info": {
   "codemirror_mode": {
    "name": "ipython",
    "version": 2
   },
   "file_extension": ".py",
   "mimetype": "text/x-python",
   "name": "python",
   "nbconvert_exporter": "python",
   "pygments_lexer": "ipython2",
   "version": "2.7.11"
  }
 },
 "nbformat": 4,
 "nbformat_minor": 0
}
