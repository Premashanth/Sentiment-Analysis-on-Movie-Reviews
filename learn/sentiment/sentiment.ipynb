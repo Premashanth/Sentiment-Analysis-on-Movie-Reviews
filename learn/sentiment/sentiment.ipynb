{
 "cells": [
  {
   "cell_type": "markdown",
   "metadata": {},
   "source": [
    "# Sentiment using TextBlob\n",
    "\n",
    "This model will simply use TextBlob to determine the sentiment of a phrase."
   ]
  },
  {
   "cell_type": "code",
   "execution_count": 1,
   "metadata": {
    "collapsed": false
   },
   "outputs": [
    {
     "name": "stderr",
     "output_type": "stream",
     "text": [
      "/home/isaac/anaconda/lib/python2.7/site-packages/matplotlib/__init__.py:872: UserWarning: axes.color_cycle is deprecated and replaced with axes.prop_cycle; please use the latter.\n",
      "  warnings.warn(self.msg_depr % (key, alt_key))\n"
     ]
    }
   ],
   "source": [
    "%matplotlib inline\n",
    "\n",
    "import pandas as pd\n",
    "import numpy as np\n",
    "import matplotlib.pyplot as plt\n",
    "import seaborn as sns\n",
    "\n",
    "# Load the data\n",
    "train = pd.read_csv('../../data/train.tsv', sep='\\t')\n",
    "test = pd.read_csv('../../data/test.tsv', sep='\\t')"
   ]
  },
  {
   "cell_type": "markdown",
   "metadata": {},
   "source": [
    "## Calculate Sentiments\n",
    "\n",
    "We'll calculate sentiments using various libraries."
   ]
  },
  {
   "cell_type": "code",
   "execution_count": 2,
   "metadata": {
    "collapsed": false
   },
   "outputs": [],
   "source": [
    "from textblob import TextBlob\n",
    "\n",
    "def text_blob_sentiment(phrase):\n",
    "    return TextBlob(phrase).sentiment.polarity\n",
    "\n",
    "def get_text_blob_sentiments(phrases):\n",
    "    sentiments = map(text_blob_sentiment, phrases)\n",
    "    return pd.DataFrame({'sentiment': sentiments})\n",
    "\n",
    "X = get_text_blob_sentiments(train.Phrase)"
   ]
  },
  {
   "cell_type": "code",
   "execution_count": null,
   "metadata": {
    "collapsed": false
   },
   "outputs": [
    {
     "name": "stdout",
     "output_type": "stream",
     "text": [
      "Random Forest cross validation runnning...\n",
      "Random Forest Score: 0.58\n",
      "dt: 8.051705\n",
      "\n",
      "AdaBoost cross validation runnning...\n",
      "AdaBoost Score:      0.58\n",
      "dt: 1.259727\n",
      "\n",
      "SVC cross validation runnning...\n",
      "SVC Score:           0.59\n",
      "dt: 3.209172\n",
      "\n"
     ]
    }
   ],
   "source": [
    "def cv(X, y):\n",
    "    from sklearn.ensemble import RandomForestClassifier\n",
    "    from sklearn.ensemble import AdaBoostClassifier\n",
    "    from sklearn.svm import SVC\n",
    "\n",
    "    forest = RandomForestClassifier(n_estimators=500)\n",
    "    boost = AdaBoostClassifier()\n",
    "    svc = SVC()\n",
    "\n",
    "    from sklearn.cross_validation import cross_val_score\n",
    "    import time\n",
    "\n",
    "    t0 = time.time()\n",
    "    print \"Random Forest cross validation runnning...\"\n",
    "    forest_score = cross_val_score(forest, X, y).mean()\n",
    "    print \"Random Forest Score: %2.2f\" % forest_score\n",
    "    print \"dt: %f\" % (time.time() - t0)\n",
    "    print \"\"\n",
    "\n",
    "    t0 = time.time()\n",
    "    print \"AdaBoost cross validation runnning...\"\n",
    "    boost_score = cross_val_score(boost, X, y).mean()\n",
    "    print \"AdaBoost Score:      %2.2f\" % boost_score\n",
    "    print \"dt: %f\" % (time.time() - t0)\n",
    "    print \"\"\n",
    "\n",
    "    t0 = time.time()\n",
    "    print \"SVC cross validation runnning...\"\n",
    "    svc_score = cross_val_score(svc, X, y).mean()\n",
    "    print \"SVC Score:           %2.2f\" % svc_score\n",
    "    print \"dt: %f\" % (time.time() - t0)\n",
    "    print \"\"\n",
    "    \n",
    "cv(X[:5000], train.Sentiment[:5000])"
   ]
  },
  {
   "cell_type": "markdown",
   "metadata": {},
   "source": [
    "## Learn with SVC"
   ]
  },
  {
   "cell_type": "code",
   "execution_count": null,
   "metadata": {
    "collapsed": true
   },
   "outputs": [],
   "source": [
    "from sklearn.svm import SVC\n",
    "svc = SVC()\n",
    "\n",
    "print \"training SVC...\"\n",
    "X_train = get_text_blob_sentiments(train.Phrase)\n",
    "y_train = train.Sentiment\n",
    "svc.fit(X_train, y_train)\n",
    "\n",
    "# Predict using training data\n",
    "train_pred = svc.predict(X_train)\n",
    "results_train = pd.DataFrame({\n",
    "    'PhraseId': train.PhraseId,\n",
    "    'Predicted': train_pred,\n",
    "    'Sentiment': train.Sentiment\n",
    "})\n",
    "results_train.to_csv('results_train.csv', index=False)\n",
    "\n",
    "print \"predicting...\"\n",
    "X_test = get_text_blob_sentiments(test.Phrase)\n",
    "y_pred = svc.predict(X_test)\n",
    "\n",
    "results_test = pd.DataFrame({\n",
    "    'PhraseId': test.PhraseId,\n",
    "    'Sentiment': y_pred\n",
    "})\n",
    "\n",
    "results_test.to_csv('results_test.csv', index=False)\n",
    "print \"done.\""
   ]
  },
  {
   "cell_type": "code",
   "execution_count": null,
   "metadata": {
    "collapsed": true
   },
   "outputs": [],
   "source": []
  }
 ],
 "metadata": {
  "kernelspec": {
   "display_name": "Python 2",
   "language": "python",
   "name": "python2"
  },
  "language_info": {
   "codemirror_mode": {
    "name": "ipython",
    "version": 2
   },
   "file_extension": ".py",
   "mimetype": "text/x-python",
   "name": "python",
   "nbconvert_exporter": "python",
   "pygments_lexer": "ipython2",
   "version": "2.7.11"
  }
 },
 "nbformat": 4,
 "nbformat_minor": 0
}
