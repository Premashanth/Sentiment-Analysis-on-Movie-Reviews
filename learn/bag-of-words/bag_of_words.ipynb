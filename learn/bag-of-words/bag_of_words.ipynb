{
 "cells": [
  {
   "cell_type": "markdown",
   "metadata": {},
   "source": [
    "## Bag of Words\n",
    "\n",
    "In this notebook, I'll be attempting to predict movie review sentiments using a bag of words model. This model does not look at the context of words in reviews, only their presence and frequency. Hopefully, classifying reviews based on the frequency of each word, the model will yield somewhat accurate results."
   ]
  },
  {
   "cell_type": "code",
   "execution_count": 1,
   "metadata": {
    "collapsed": false
   },
   "outputs": [
    {
     "name": "stderr",
     "output_type": "stream",
     "text": [
      "/home/isaac/anaconda/lib/python2.7/site-packages/matplotlib/__init__.py:872: UserWarning: axes.color_cycle is deprecated and replaced with axes.prop_cycle; please use the latter.\n",
      "  warnings.warn(self.msg_depr % (key, alt_key))\n"
     ]
    },
    {
     "data": {
      "text/plain": [
       "(156060, 4)"
      ]
     },
     "execution_count": 1,
     "metadata": {},
     "output_type": "execute_result"
    }
   ],
   "source": [
    "%matplotlib inline\n",
    "\n",
    "import pandas as pd\n",
    "import numpy as np\n",
    "import matplotlib.pyplot as plt\n",
    "import seaborn as sns\n",
    "\n",
    "# Load the data\n",
    "train = pd.read_csv('../../data/train.tsv', sep='\\t')\n",
    "test = pd.read_csv('../../data/test.tsv', sep='\\t')\n",
    "train.shape"
   ]
  },
  {
   "cell_type": "markdown",
   "metadata": {},
   "source": [
    "### Count Vectorization\n",
    "\n",
    "Our first attempt at feature extraction will be using the [CountVectorizer](http://scikit-learn.org/stable/modules/generated/sklearn.feature_extraction.text.CountVectorizer.html) from [scikit-learn](http://scikit-learn.org/stable/index.html). This tool will look at each review and count the number of times each word occurs. The number of times a word appears in a review will hopefully correlate with the sentiment of the review."
   ]
  },
  {
   "cell_type": "code",
   "execution_count": 2,
   "metadata": {
    "collapsed": false
   },
   "outputs": [
    {
     "name": "stdout",
     "output_type": "stream",
     "text": [
      "(1000, 2454)\n"
     ]
    }
   ],
   "source": [
    "from sklearn.feature_extraction.text import CountVectorizer\n",
    "\n",
    "subset = train.sample(1000)\n",
    "\n",
    "# Create the vectorizer\n",
    "# We ignoring common english words\n",
    "vectorizer = CountVectorizer(stop_words='english')\n",
    "X = vectorizer.fit_transform(subset.Phrase)\n",
    "print X.shape"
   ]
  },
  {
   "cell_type": "markdown",
   "metadata": {},
   "source": [
    "### Learning\n",
    "\n",
    "Now that we've extracted our features, we can learn from them."
   ]
  },
  {
   "cell_type": "code",
   "execution_count": 3,
   "metadata": {
    "collapsed": false
   },
   "outputs": [
    {
     "name": "stdout",
     "output_type": "stream",
     "text": [
      "Random Forest cross validation runnning...\n",
      "Random Forest Score: 0.49\n",
      "dt: 2.146049\n",
      "\n",
      "AdaBoost cross validation runnning...\n",
      "AdaBoost Score:      0.48\n",
      "dt: 0.828359\n",
      "\n",
      "SVC cross validation runnning...\n",
      "SVC Score:           0.49\n",
      "dt: 0.295981\n",
      "\n"
     ]
    }
   ],
   "source": [
    "def cv(X, y):\n",
    "    from sklearn.ensemble import RandomForestClassifier\n",
    "    from sklearn.ensemble import AdaBoostClassifier\n",
    "    from sklearn.svm import SVC\n",
    "\n",
    "    forest = RandomForestClassifier(n_estimators=50)\n",
    "    boost = AdaBoostClassifier()\n",
    "    svc = SVC()\n",
    "\n",
    "    from sklearn.cross_validation import cross_val_score\n",
    "    import time\n",
    "\n",
    "    t0 = time.time()\n",
    "    print \"Random Forest cross validation runnning...\"\n",
    "    forest_score = cross_val_score(forest, X, y).mean()\n",
    "    print \"Random Forest Score: %2.2f\" % forest_score\n",
    "    print \"dt: %f\" % (time.time() - t0)\n",
    "    print \"\"\n",
    "\n",
    "    t0 = time.time()\n",
    "    print \"AdaBoost cross validation runnning...\"\n",
    "    boost_score = cross_val_score(boost, X, y).mean()\n",
    "    print \"AdaBoost Score:      %2.2f\" % boost_score\n",
    "    print \"dt: %f\" % (time.time() - t0)\n",
    "    print \"\"\n",
    "\n",
    "    t0 = time.time()\n",
    "    print \"SVC cross validation runnning...\"\n",
    "    svc_score = cross_val_score(svc, X, y).mean()\n",
    "    print \"SVC Score:           %2.2f\" % svc_score\n",
    "    print \"dt: %f\" % (time.time() - t0)\n",
    "    print \"\"\n",
    "    \n",
    "cv(X, subset.Sentiment)"
   ]
  },
  {
   "cell_type": "code",
   "execution_count": 4,
   "metadata": {
    "collapsed": false
   },
   "outputs": [
    {
     "name": "stdout",
     "output_type": "stream",
     "text": [
      "Sentiment Percentages\n"
     ]
    },
    {
     "data": {
      "image/png": "[encoded data removed]",
      "text/plain": [
       "<matplotlib.figure.Figure at 0x7fe2d71a40d0>"
      ]
     },
     "metadata": {},
     "output_type": "display_data"
    }
   ],
   "source": [
    "print \"Sentiment Percentages\"\n",
    "\n",
    "sentiment_sizes = subset.groupby('Sentiment').size()\n",
    "labels = map(str, range(5))\n",
    "colors = ['gold', 'yellowgreen', 'lightcoral', 'lightskyblue', 'red']\n",
    "plt.pie(sentiment_sizes, autopct='%1.1f%%', colors=colors, labels=labels, shadow=True, startangle=140)\n",
    "plt.show()"
   ]
  },
  {
   "cell_type": "markdown",
   "metadata": {},
   "source": [
    "Our best cross validation scores are around 63%. This is oddly similar to the percent of Sentiments labeled as 2. It seems likely that our model is nearly always predicting a sentiment of 2 for every phrase."
   ]
  },
  {
   "cell_type": "markdown",
   "metadata": {},
   "source": [
    "### Kaggle Submission\n",
    "\n",
    "Let's see how our bag of words model performs with count vectorization on kaggle."
   ]
  },
  {
   "cell_type": "code",
   "execution_count": 5,
   "metadata": {
    "collapsed": false
   },
   "outputs": [
    {
     "name": "stdout",
     "output_type": "stream",
     "text": [
      "vectorizing...\n",
      "fitting model...\n",
      "predicting...\n",
      "done!\n"
     ]
    }
   ],
   "source": [
    "from sklearn.svm import SVC\n",
    "\n",
    "# If we want to use all of the data\n",
    "# subset = train\n",
    "subset = train.sample(3000)\n",
    "\n",
    "\n",
    "# vectorize words\n",
    "print 'vectorizing...'\n",
    "vectorizer = CountVectorizer(stop_words='english', max_features=1000)\n",
    "X = vectorizer.fit_transform(subset.Phrase)\n",
    "y = subset.Sentiment\n",
    "\n",
    "# train the model\n",
    "print 'fitting model...'\n",
    "svc = SVC()\n",
    "svc.fit(X, y)\n",
    "\n",
    "# make predictions\n",
    "print 'predicting...'\n",
    "X = vectorizer.transform(test.Phrase)\n",
    "y_pred = svc.predict(X)\n",
    "\n",
    "# save results\n",
    "results = pd.DataFrame({\n",
    "    'PhraseId': test.PhraseId,\n",
    "    'Sentiment': y_pred\n",
    "})\n",
    "results.to_csv('count_vectorize_bow.csv', index=False)\n",
    "\n",
    "print 'done!'"
   ]
  },
  {
   "cell_type": "markdown",
   "metadata": {},
   "source": [
    "### How'd we do?\n",
    "\n",
    "![Kaggle Score](count-kaggle-score.png)"
   ]
  },
  {
   "cell_type": "markdown",
   "metadata": {},
   "source": [
    "### TF-IDF Vectorization\n",
    "\n",
    "Vectorization only using the frequency of each word did not perform very well. By incorporating the inverse document frequency, we might better evaluate the significance of words in each review. This works by comparing the frequency of each word with the number of times it appears within all the reviews. If every review contains a certain word, then that word probably has a lower significance. This vectorization would reflect that. We will use the [TF-IDF Vectorizer](http://scikit-learn.org/stable/modules/generated/sklearn.feature_extraction.text.TfidfVectorizer.html) from [scikit-learn](http://scikit-learn.org/stable/index.html)."
   ]
  },
  {
   "cell_type": "code",
   "execution_count": 6,
   "metadata": {
    "collapsed": true
   },
   "outputs": [],
   "source": [
    "from sklearn.feature_extraction.text import TfidfVectorizer\n",
    "\n",
    "# Create the vectorizer\n",
    "# We ignoring common english words and only look at a maximum of 500 unique words\n",
    "vectorizer = TfidfVectorizer(stop_words='english', max_features=500)\n",
    "X = vectorizer.fit_transform(subset.Phrase).toarray()"
   ]
  },
  {
   "cell_type": "code",
   "execution_count": 7,
   "metadata": {
    "collapsed": false
   },
   "outputs": [
    {
     "name": "stdout",
     "output_type": "stream",
     "text": [
      "Random Forest cross validation runnning...\n",
      "Random Forest Score: 0.50\n",
      "dt: 5.453370\n",
      "\n",
      "AdaBoost cross validation runnning...\n",
      "AdaBoost Score:      0.50\n",
      "dt: 2.010302\n",
      "\n",
      "SVC cross validation runnning...\n",
      "SVC Score:           0.51\n",
      "dt: 16.093527\n",
      "\n"
     ]
    }
   ],
   "source": [
    "cv(X, subset.Sentiment)"
   ]
  },
  {
   "cell_type": "markdown",
   "metadata": {},
   "source": [
    "It appears that TF-IDF vectorization slightly improved the scores of our Random Forest and AdaBoost models. Maybe if we use more of the training data, we will get even better results."
   ]
  },
  {
   "cell_type": "markdown",
   "metadata": {},
   "source": [
    "### Kaggle Submission\n",
    "\n",
    "Now we'll train our model using TF-IDF vectorization."
   ]
  },
  {
   "cell_type": "code",
   "execution_count": 8,
   "metadata": {
    "collapsed": false
   },
   "outputs": [
    {
     "name": "stdout",
     "output_type": "stream",
     "text": [
      "vectorizing...\n",
      "fitting model...\n",
      "predicting...\n",
      "done!\n"
     ]
    }
   ],
   "source": [
    "split_index = int(len(train) / 2)\n",
    "cv = train[:split_index]\n",
    "train = train[split_index:]\n",
    "\n",
    "from sklearn.svm import SVC\n",
    "from sklearn.feature_extraction.text import TfidfVectorizer\n",
    "\n",
    "# vectorize words\n",
    "print 'vectorizing...'\n",
    "vectorizer = TfidfVectorizer(stop_words='english', max_df=0.95, min_df=2)\n",
    "X_train = vectorizer.fit_transform(train.Phrase)\n",
    "y_train = train.Sentiment\n",
    "\n",
    "# train the model\n",
    "print 'fitting model...'\n",
    "svc = SVC()\n",
    "svc.fit(X_train, y_train)\n",
    "\n",
    "# make predictions\n",
    "print 'predicting...'\n",
    "X_cv = vectorizer.transform(cv.Phrase)\n",
    "y_cv = svc.predict(X_cv)\n",
    "\n",
    "results_cv = pd.DataFrame({\n",
    "    'PhraseId': cv.PhraseId,\n",
    "    'Predicted': y_cv,\n",
    "    'Sentiment': cv.Sentiment\n",
    "})\n",
    "results_cv.to_csv('results_train.csv', index=False)\n",
    "\n",
    "X = vectorizer.transform(test.Phrase)\n",
    "y_pred = svc.predict(X)\n",
    "\n",
    "# save results\n",
    "results = pd.DataFrame({\n",
    "    'PhraseId': test.PhraseId,\n",
    "    'Sentiment': y_pred\n",
    "})\n",
    "results.to_csv('results_test.csv', index=False)\n",
    "\n",
    "print 'done!'"
   ]
  },
  {
   "cell_type": "markdown",
   "metadata": {},
   "source": [
    "### How'd we do?\n",
    "\n",
    "![Kaggle Score](tfidf-kaggle-score.png)"
   ]
  },
  {
   "cell_type": "markdown",
   "metadata": {},
   "source": [
    "## Conclusion\n",
    "\n",
    "At this point, it appears that a simple bag of words model with count vectorization or TF-IDF vectorization does not score much better than simply always predicting a sentiment of 2. In these tests only a portion of the training data set was used. By using a larger portion of data these results might change."
   ]
  },
  {
   "cell_type": "code",
   "execution_count": null,
   "metadata": {
    "collapsed": true
   },
   "outputs": [],
   "source": []
  }
 ],
 "metadata": {
  "kernelspec": {
   "display_name": "Python 2",
   "language": "python",
   "name": "python2"
  },
  "language_info": {
   "codemirror_mode": {
    "name": "ipython",
    "version": 2
   },
   "file_extension": ".py",
   "mimetype": "text/x-python",
   "name": "python",
   "nbconvert_exporter": "python",
   "pygments_lexer": "ipython2",
   "version": "2.7.11"
  }
 },
 "nbformat": 4,
 "nbformat_minor": 0
}
