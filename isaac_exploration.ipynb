{
 "cells": [
  {
   "cell_type": "code",
   "execution_count": 2,
   "metadata": {
    "collapsed": false
   },
   "outputs": [
    {
     "name": "stderr",
     "output_type": "stream",
     "text": [
      "/home/isaac/anaconda/lib/python2.7/site-packages/matplotlib/__init__.py:872: UserWarning: axes.color_cycle is deprecated and replaced with axes.prop_cycle; please use the latter.\n",
      "  warnings.warn(self.msg_depr % (key, alt_key))\n"
     ]
    },
    {
     "data": {
      "text/html": [
       "<div>\n",
       "<table border=\"1\" class=\"dataframe\">\n",
       "  <thead>\n",
       "    <tr style=\"text-align: right;\">\n",
       "      <th></th>\n",
       "      <th>PhraseId</th>\n",
       "      <th>SentenceId</th>\n",
       "      <th>Phrase</th>\n",
       "      <th>Sentiment</th>\n",
       "    </tr>\n",
       "  </thead>\n",
       "  <tbody>\n",
       "    <tr>\n",
       "      <th>0</th>\n",
       "      <td>1</td>\n",
       "      <td>1</td>\n",
       "      <td>A series of escapades demonstrating the adage ...</td>\n",
       "      <td>1</td>\n",
       "    </tr>\n",
       "    <tr>\n",
       "      <th>1</th>\n",
       "      <td>2</td>\n",
       "      <td>1</td>\n",
       "      <td>A series of escapades demonstrating the adage ...</td>\n",
       "      <td>2</td>\n",
       "    </tr>\n",
       "    <tr>\n",
       "      <th>2</th>\n",
       "      <td>3</td>\n",
       "      <td>1</td>\n",
       "      <td>A series</td>\n",
       "      <td>2</td>\n",
       "    </tr>\n",
       "    <tr>\n",
       "      <th>3</th>\n",
       "      <td>4</td>\n",
       "      <td>1</td>\n",
       "      <td>A</td>\n",
       "      <td>2</td>\n",
       "    </tr>\n",
       "    <tr>\n",
       "      <th>4</th>\n",
       "      <td>5</td>\n",
       "      <td>1</td>\n",
       "      <td>series</td>\n",
       "      <td>2</td>\n",
       "    </tr>\n",
       "  </tbody>\n",
       "</table>\n",
       "</div>"
      ],
      "text/plain": [
       "   PhraseId  SentenceId                                             Phrase  \\\n",
       "0         1           1  A series of escapades demonstrating the adage ...   \n",
       "1         2           1  A series of escapades demonstrating the adage ...   \n",
       "2         3           1                                           A series   \n",
       "3         4           1                                                  A   \n",
       "4         5           1                                             series   \n",
       "\n",
       "   Sentiment  \n",
       "0          1  \n",
       "1          2  \n",
       "2          2  \n",
       "3          2  \n",
       "4          2  "
      ]
     },
     "execution_count": 2,
     "metadata": {},
     "output_type": "execute_result"
    }
   ],
   "source": [
    "%matplotlib inline\n",
    "\n",
    "import pandas as pd\n",
    "import numpy as np\n",
    "import matplotlib.pyplot as plt\n",
    "import seaborn as sns\n",
    "\n",
    "train = pd.read_csv('data/train.tsv', sep='\\t')\n",
    "test = pd.read_csv('data/test.tsv', sep='\\t')\n",
    "\n",
    "train.head()"
   ]
  },
  {
   "cell_type": "markdown",
   "metadata": {},
   "source": [
    "##  What percent of reviews fall into each category?"
   ]
  },
  {
   "cell_type": "code",
   "execution_count": 68,
   "metadata": {
    "collapsed": false
   },
   "outputs": [
    {
     "name": "stdout",
     "output_type": "stream",
     "text": [
      "Percent of phrases in each category:\n",
      "------------------------------------\n",
      "Negative             4.53%\n",
      "Somewhat Negative   17.48%\n",
      "Neutral             50.99%\n",
      "Somewhat Positive   21.10%\n",
      "Positive             5.90%\n",
      "[4.5315904139433547, 17.475970780469051, 50.994489298987567, 21.098936306548762, 5.8990132000512627]\n"
     ]
    }
   ],
   "source": [
    "sentiment_counts = train.groupby('Sentiment').size()\n",
    "sentiment_percents = 100 * sentiment_counts / len(train)\n",
    "\n",
    "sentiment_labels = ['Negative', 'Somewhat Negative', 'Neutral', 'Somewhat Positive', 'Positive']\n",
    "\n",
    "print \"Percent of phrases in each category:\"\n",
    "print \"------------------------------------\"\n",
    "for (index, sentiment) in enumerate(sentiment_labels):\n",
    "    print \"%-20s%5.2f%%\" % (sentiment, sentiment_percents[index])"
   ]
  },
  {
   "cell_type": "code",
   "execution_count": 96,
   "metadata": {
    "collapsed": false
   },
   "outputs": [
    {
     "data": {
      "image/png": "[encoded data removed]",
      "text/plain": [
       "<matplotlib.figure.Figure at 0x7f3babcb8b10>"
      ]
     },
     "metadata": {},
     "output_type": "display_data"
    },
    {
     "data": {
      "image/png": "[encoded data removed]",
      "text/plain": [
       "<matplotlib.figure.Figure at 0x7f3babad0390>"
      ]
     },
     "metadata": {},
     "output_type": "display_data"
    }
   ],
   "source": [
    "inds = range(len(sentiment_percents))\n",
    "barwidth = 0.7\n",
    "\n",
    "ticks_locs = map(lambda x: x + barwidth/2, inds)\n",
    "\n",
    "plt.bar(inds, sentiment_percents, width=barwidth)\n",
    "plt.xticks(ticks_locs, sentiment_labels)\n",
    "plt.show()\n",
    "\n",
    "colors = ['yellowgreen', 'gold', 'lightskyblue', 'lightcoral', 'cadetblue']\n",
    "plt.pie(sentiment_percents, colors=colors, labels=sentiment_labels, shadow=True, startangle=90, autopct=\"%.2f%%\")\n",
    "plt.axis('equal')\n",
    "plt.tight_layout()\n",
    "plt.show()"
   ]
  },
  {
   "cell_type": "markdown",
   "metadata": {},
   "source": [
    "## What's the variation in sentiments within a sentence?"
   ]
  },
  {
   "cell_type": "code",
   "execution_count": 102,
   "metadata": {
    "collapsed": false
   },
   "outputs": [
    {
     "name": "stdout",
     "output_type": "stream",
     "text": [
      "Average Sentiment Variance: 0.523364\n"
     ]
    }
   ],
   "source": [
    "grouped = train.groupby('SentenceId')\n",
    "print 'Average Sentiment Variance: %f' % grouped.Sentiment.var().mean()"
   ]
  },
  {
   "cell_type": "markdown",
   "metadata": {},
   "source": [
    "## Which words are most significant to each sentiment?"
   ]
  },
  {
   "cell_type": "code",
   "execution_count": 139,
   "metadata": {
    "collapsed": true
   },
   "outputs": [],
   "source": [
    "# Count the occurrences of each word in each phrase\n",
    "from sklearn.feature_extraction.text import TfidfVectorizer\n",
    "vectorizer = TfidfVectorizer(stop_words='english', max_features=1000)\n",
    "X = vectorizer.fit_transform(train.Phrase)"
   ]
  },
  {
   "cell_type": "code",
   "execution_count": 140,
   "metadata": {
    "collapsed": false
   },
   "outputs": [],
   "source": [
    "# Add the word frequencies to the training data frame\n",
    "words = pd.DataFrame(columns=vectorizer.get_feature_names(), data=X.toarray())\n",
    "train_words = pd.concat([train, words], axis=1, copy=False)\n",
    "grouped = train_words.groupby('Sentiment').sum()\n",
    "grouped.drop(['PhraseId', 'SentenceId'], inplace=True, axis=1)"
   ]
  },
  {
   "cell_type": "code",
   "execution_count": 141,
   "metadata": {
    "collapsed": false
   },
   "outputs": [
    {
     "name": "stdout",
     "output_type": "stream",
     "text": [
      "Negative:\n",
      "\n",
      "money\n",
      "cheap\n",
      "head\n",
      "simply\n",
      "pointless\n",
      "poorly\n",
      "tedious\n",
      "fails\n",
      "unfunny\n",
      "ll\n",
      "goes\n",
      "waste\n",
      "direction\n",
      "worse\n",
      "mess\n",
      "sequel\n",
      "sloppy\n",
      "hours\n",
      "completely\n",
      "nearly\n",
      "imagine\n",
      "awful\n",
      "minute\n",
      "theater\n",
      "plain\n",
      "terrible\n",
      "ugly\n",
      "stupid\n",
      "loud\n",
      "\n",
      "Somewhat Negative:\n",
      "\n",
      "slow\n",
      "gags\n",
      "tired\n",
      "tv\n",
      "lack\n",
      "idea\n",
      "quite\n",
      "cliches\n",
      "wrong\n",
      "short\n",
      "premise\n",
      "bland\n",
      "cold\n",
      "trying\n",
      "lacks\n",
      "bit\n",
      "\n",
      "Neutral:\n",
      "\n",
      "think\n",
      "kids\n",
      "war\n",
      "familiar\n",
      "political\n",
      "young\n",
      "times\n",
      "dark\n",
      "women\n",
      "book\n",
      "lives\n",
      "john\n",
      "come\n",
      "day\n",
      "say\n",
      "subject\n",
      "\n",
      "Somewhat Positive:\n",
      "\n",
      "enjoy\n",
      "intriguing\n",
      "power\n",
      "laughs\n",
      "honest\n",
      "high\n",
      "charm\n",
      "pretty\n",
      "portrait\n",
      "comic\n",
      "strong\n",
      "spirit\n",
      "\n",
      "Positive:\n",
      "\n",
      "inventive\n",
      "remarkable\n",
      "intelligence\n",
      "surprisingly\n",
      "beautifully\n",
      "fine\n",
      "perfect\n",
      "satisfying\n",
      "entertainment\n",
      "terrific\n",
      "written\n",
      "wonderful\n",
      "rich\n",
      "gorgeous\n",
      "intelligent\n",
      "visually\n",
      "oscar\n",
      "hilarious\n",
      "cinematic\n",
      "charming\n",
      "touching\n",
      "excellent\n",
      "impressive\n",
      "brilliant\n",
      "experience\n",
      "solid\n",
      "delightful\n",
      "masterpiece\n",
      "piece\n",
      "\n"
     ]
    }
   ],
   "source": [
    "sentiments_t = grouped.transpose()\n",
    "\n",
    "from sets import Set\n",
    "\n",
    "common_sentiment_words = {}\n",
    "for sentiment in range(5):\n",
    "    words = sentiments_t[sentiment].sort_values(ascending=False)\n",
    "    top_words = words[:100].index.values\n",
    "    common_sentiment_words[sentiment] = top_words\n",
    "    \n",
    "sentiment_words = {}\n",
    "for i in common_sentiment_words:\n",
    "    common_words = Set()\n",
    "    for j in common_sentiment_words:\n",
    "        if i != j:\n",
    "            common_words |= Set(common_sentiment_words[j])\n",
    "    sentiment_words[i] = Set(common_sentiment_words[i]) - common_words\n",
    "    \n",
    "for i in sentiment_words:\n",
    "    print \"%s:\\n\" % sentiment_labels[i]\n",
    "    for word in sentiment_words[i]:\n",
    "        print word\n",
    "    print \"\""
   ]
  }
 ],
 "metadata": {
  "kernelspec": {
   "display_name": "Python 2",
   "language": "python",
   "name": "python2"
  },
  "language_info": {
   "codemirror_mode": {
    "name": "ipython",
    "version": 2
   },
   "file_extension": ".py",
   "mimetype": "text/x-python",
   "name": "python",
   "nbconvert_exporter": "python",
   "pygments_lexer": "ipython2",
   "version": "2.7.11"
  }
 },
 "nbformat": 4,
 "nbformat_minor": 0
}
